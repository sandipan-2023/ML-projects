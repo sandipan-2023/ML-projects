{
 "cells": [
  {
   "cell_type": "code",
   "execution_count": 1,
   "metadata": {},
   "outputs": [
    {
     "name": "stdout",
     "output_type": "stream",
     "text": [
      "Reading ratings from C:/Users/sandi/Desktop/My Git/Netflix Recommender System/combined_data_1.txt...\n",
      "Done.\n",
      "\n",
      "Reading ratings from C:/Users/sandi/Desktop/My Git/Netflix Recommender System/combined_data_2.txt...\n",
      "Done.\n",
      "\n",
      "Reading ratings from C:/Users/sandi/Desktop/My Git/Netflix Recommender System/combined_data_3.txt...\n",
      "Done.\n",
      "\n",
      "Reading ratings from C:/Users/sandi/Desktop/My Git/Netflix Recommender System/combined_data_4.txt...\n",
      "Done.\n",
      "\n"
     ]
    }
   ],
   "source": [
    "import numpy as np\n",
    "import pandas as pd\n",
    "import matplotlib.pyplot as plt\n",
    "import seaborn as sns\n",
    "import os\n",
    "\n",
    "output_folder = \"C:/Users/sandi/Desktop/My Git/Netflix Recommender System/\"\n",
    "output_file = os.path.join(output_folder, 'data.csv')\n",
    "\n",
    "if not os.path.exists(output_folder):\n",
    "    os.makedirs(output_folder)\n",
    "\n",
    "if not os.path.isfile(output_file):\n",
    "    with open(output_file, mode='w') as data:\n",
    "        files = [os.path.join(output_folder, f'combined_data_{i}.txt') for i in range(1, 5)]\n",
    "        \n",
    "        for file in files:\n",
    "            print(\"Reading ratings from {}...\".format(file))\n",
    "            with open(file) as f:\n",
    "                movie_id = None\n",
    "                for line in f:\n",
    "                    line = line.strip()\n",
    "                    if line.endswith(':'):\n",
    "                        movie_id = line.replace(':', '')\n",
    "                    else:\n",
    "                        row = [x for x in line.split(',')]\n",
    "                        row.insert(0, movie_id)\n",
    "                        data.write(','.join(row))\n",
    "                        data.write('\\n')\n",
    "            print(\"Done.\\n\")"
   ]
  }
 ],
 "metadata": {
  "kernelspec": {
   "display_name": "py311",
   "language": "python",
   "name": "python3"
  },
  "language_info": {
   "codemirror_mode": {
    "name": "ipython",
    "version": 3
   },
   "file_extension": ".py",
   "mimetype": "text/x-python",
   "name": "python",
   "nbconvert_exporter": "python",
   "pygments_lexer": "ipython3",
   "version": "3.11.3"
  },
  "orig_nbformat": 4
 },
 "nbformat": 4,
 "nbformat_minor": 2
}
