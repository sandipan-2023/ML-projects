{
  "cells": [
    {
      "cell_type": "code",
      "execution_count": 1,
      "metadata": {
        "id": "LAYpSo7QEYGF"
      },
      "outputs": [],
      "source": [
        "import numpy as np\n",
        "import pandas as pd\n",
        "import cupy as cp\n",
        "import cudf\n",
        "import dask_cudf as ddf\n",
        "import matplotlib.pyplot as plt\n",
        "import seaborn as sns"
      ]
    },
    {
      "cell_type": "code",
      "execution_count": 3,
      "metadata": {
        "id": "EME9yarVGEsW"
      },
      "outputs": [
        {
          "data": {
            "text/html": [
              "<div>\n",
              "<style scoped>\n",
              "    .dataframe tbody tr th:only-of-type {\n",
              "        vertical-align: middle;\n",
              "    }\n",
              "\n",
              "    .dataframe tbody tr th {\n",
              "        vertical-align: top;\n",
              "    }\n",
              "\n",
              "    .dataframe thead th {\n",
              "        text-align: right;\n",
              "    }\n",
              "</style>\n",
              "<table border=\"1\" class=\"dataframe\">\n",
              "  <thead>\n",
              "    <tr style=\"text-align: right;\">\n",
              "      <th></th>\n",
              "      <th>Movie_Id</th>\n",
              "      <th>User_Id</th>\n",
              "      <th>User_Rating</th>\n",
              "      <th>Date</th>\n",
              "    </tr>\n",
              "  </thead>\n",
              "  <tbody>\n",
              "    <tr>\n",
              "      <th>0</th>\n",
              "      <td>1</td>\n",
              "      <td>1488844</td>\n",
              "      <td>3</td>\n",
              "      <td>2005-09-06</td>\n",
              "    </tr>\n",
              "    <tr>\n",
              "      <th>1</th>\n",
              "      <td>1</td>\n",
              "      <td>822109</td>\n",
              "      <td>5</td>\n",
              "      <td>2005-05-13</td>\n",
              "    </tr>\n",
              "    <tr>\n",
              "      <th>2</th>\n",
              "      <td>1</td>\n",
              "      <td>885013</td>\n",
              "      <td>4</td>\n",
              "      <td>2005-10-19</td>\n",
              "    </tr>\n",
              "    <tr>\n",
              "      <th>3</th>\n",
              "      <td>1</td>\n",
              "      <td>30878</td>\n",
              "      <td>4</td>\n",
              "      <td>2005-12-26</td>\n",
              "    </tr>\n",
              "    <tr>\n",
              "      <th>4</th>\n",
              "      <td>1</td>\n",
              "      <td>823519</td>\n",
              "      <td>3</td>\n",
              "      <td>2004-05-03</td>\n",
              "    </tr>\n",
              "  </tbody>\n",
              "</table>\n",
              "</div>"
            ],
            "text/plain": [
              "   Movie_Id  User_Id  User_Rating        Date\n",
              "0         1  1488844            3  2005-09-06\n",
              "1         1   822109            5  2005-05-13\n",
              "2         1   885013            4  2005-10-19\n",
              "3         1    30878            4  2005-12-26\n",
              "4         1   823519            3  2004-05-03"
            ]
          },
          "execution_count": 3,
          "metadata": {},
          "output_type": "execute_result"
        }
      ],
      "source": [
        "file_path= r\"C:\\Users\\sandi\\Desktop\\My Git\\Netflix Recommender System\\data.csv\"\n",
        "data = cudf.read_csv(file_path, names=['Movie_Id', 'User_Id', 'User_Rating', 'Date'])\n",
        "\n",
        "data.head()"
      ]
    },
    {
      "cell_type": "code",
      "execution_count": 4,
      "metadata": {
        "colab": {
          "base_uri": "https://localhost:8080/",
          "height": 206
        },
        "id": "RuKLsQlIH8Cp",
        "outputId": "a9241826-86d6-44bb-c1a6-2e1e0cf333de"
      },
      "outputs": [
        {
          "data": {
            "text/html": [
              "<div>\n",
              "<style scoped>\n",
              "    .dataframe tbody tr th:only-of-type {\n",
              "        vertical-align: middle;\n",
              "    }\n",
              "\n",
              "    .dataframe tbody tr th {\n",
              "        vertical-align: top;\n",
              "    }\n",
              "\n",
              "    .dataframe thead th {\n",
              "        text-align: right;\n",
              "    }\n",
              "</style>\n",
              "<table border=\"1\" class=\"dataframe\">\n",
              "  <thead>\n",
              "    <tr style=\"text-align: right;\">\n",
              "      <th></th>\n",
              "      <th>Movie_Id</th>\n",
              "      <th>User_Id</th>\n",
              "      <th>User_Rating</th>\n",
              "      <th>Date</th>\n",
              "    </tr>\n",
              "  </thead>\n",
              "  <tbody>\n",
              "    <tr>\n",
              "      <th>0</th>\n",
              "      <td>1</td>\n",
              "      <td>1488844</td>\n",
              "      <td>3</td>\n",
              "      <td>2005-09-06</td>\n",
              "    </tr>\n",
              "    <tr>\n",
              "      <th>1</th>\n",
              "      <td>1</td>\n",
              "      <td>822109</td>\n",
              "      <td>5</td>\n",
              "      <td>2005-05-13</td>\n",
              "    </tr>\n",
              "    <tr>\n",
              "      <th>2</th>\n",
              "      <td>1</td>\n",
              "      <td>885013</td>\n",
              "      <td>4</td>\n",
              "      <td>2005-10-19</td>\n",
              "    </tr>\n",
              "    <tr>\n",
              "      <th>3</th>\n",
              "      <td>1</td>\n",
              "      <td>30878</td>\n",
              "      <td>4</td>\n",
              "      <td>2005-12-26</td>\n",
              "    </tr>\n",
              "    <tr>\n",
              "      <th>4</th>\n",
              "      <td>1</td>\n",
              "      <td>823519</td>\n",
              "      <td>3</td>\n",
              "      <td>2004-05-03</td>\n",
              "    </tr>\n",
              "  </tbody>\n",
              "</table>\n",
              "</div>"
            ],
            "text/plain": [
              "   Movie_Id  User_Id  User_Rating        Date\n",
              "0         1  1488844            3  2005-09-06\n",
              "1         1   822109            5  2005-05-13\n",
              "2         1   885013            4  2005-10-19\n",
              "3         1    30878            4  2005-12-26\n",
              "4         1   823519            3  2004-05-03"
            ]
          },
          "execution_count": 4,
          "metadata": {},
          "output_type": "execute_result"
        }
      ],
      "source": [
        "data.head()"
      ]
    },
    {
      "cell_type": "code",
      "execution_count": 5,
      "metadata": {
        "colab": {
          "base_uri": "https://localhost:8080/"
        },
        "id": "q3VuzGI9EYGJ",
        "outputId": "51e4169d-57f5-4820-e094-3321a6fb14be"
      },
      "outputs": [
        {
          "name": "stdout",
          "output_type": "stream",
          "text": [
            "<class 'cudf.core.dataframe.DataFrame'>\n",
            "RangeIndex: 1000000 entries, 0 to 999999\n",
            "Data columns (total 4 columns):\n",
            " #   Column       Non-Null Count    Dtype\n",
            "---  ------       --------------    -----\n",
            " 0   Movie_Id     1000000 non-null  int64\n",
            " 1   User_Id      1000000 non-null  int64\n",
            " 2   User_Rating  1000000 non-null  int64\n",
            " 3   Date         1000000 non-null  object\n",
            "dtypes: int64(3), object(1)\n",
            "memory usage: 36.2+ MB\n"
          ]
        }
      ],
      "source": [
        "data.info()"
      ]
    },
    {
      "cell_type": "code",
      "execution_count": 6,
      "metadata": {
        "colab": {
          "base_uri": "https://localhost:8080/"
        },
        "id": "DthSqHb7EYGK",
        "outputId": "23e3510a-7894-4d17-d616-e86fb9a2f0d5"
      },
      "outputs": [
        {
          "data": {
            "text/plain": [
              "Movie_Id          225\n",
              "User_Id        283705\n",
              "User_Rating         5\n",
              "Date             2166\n",
              "dtype: int64"
            ]
          },
          "execution_count": 6,
          "metadata": {},
          "output_type": "execute_result"
        }
      ],
      "source": [
        "data.nunique()"
      ]
    },
    {
      "cell_type": "code",
      "execution_count": 7,
      "metadata": {
        "colab": {
          "base_uri": "https://localhost:8080/"
        },
        "id": "-flhkwbKEYGK",
        "outputId": "01a49e00-eb78-4bce-baff-ae98d19fea65"
      },
      "outputs": [
        {
          "name": "stdout",
          "output_type": "stream",
          "text": [
            "<class 'cudf.core.dataframe.DataFrame'>\n",
            "RangeIndex: 1000000 entries, 0 to 999999\n",
            "Data columns (total 4 columns):\n",
            " #   Column       Non-Null Count    Dtype\n",
            "---  ------       --------------    -----\n",
            " 0   Movie_Id     1000000 non-null  int32\n",
            " 1   User_Id      1000000 non-null  int32\n",
            " 2   User_Rating  1000000 non-null  int32\n",
            " 3   Date         1000000 non-null  object\n",
            "dtypes: int32(3), object(1)\n",
            "memory usage: 24.8+ MB\n"
          ]
        }
      ],
      "source": [
        "numeric_columns = data.select_dtypes(include=['int64']).columns\n",
        "\n",
        "# Convert numeric columns to int32\n",
        "for col in numeric_columns:\n",
        "    data[col] = data[col].astype('int32')\n",
        "\n",
        "data.info()"
      ]
    },
    {
      "cell_type": "markdown",
      "metadata": {
        "id": "jCjMBcZKEYGL"
      },
      "source": [
        "<p style=\"color: yellow;\">By converting to int32 datatype we are saving much memory.</p>\n"
      ]
    },
    {
      "cell_type": "markdown",
      "metadata": {
        "id": "7BWzXSstEYGM"
      },
      "source": [
        "<p style=\"color: yellow;\">The 'Date' column is not in the datetime format so let's convert it into datetime format first.</p>"
      ]
    },
    {
      "cell_type": "code",
      "execution_count": 8,
      "metadata": {
        "colab": {
          "base_uri": "https://localhost:8080/"
        },
        "id": "4M6uEI_NEYGN",
        "outputId": "4b2c9e87-2214-4a34-97f2-37378c45858d"
      },
      "outputs": [
        {
          "name": "stdout",
          "output_type": "stream",
          "text": [
            "<class 'cudf.core.dataframe.DataFrame'>\n",
            "RangeIndex: 1000000 entries, 0 to 999999\n",
            "Data columns (total 4 columns):\n",
            " #   Column       Non-Null Count    Dtype\n",
            "---  ------       --------------    -----\n",
            " 0   Movie_Id     1000000 non-null  int32\n",
            " 1   User_Id      1000000 non-null  int32\n",
            " 2   User_Rating  1000000 non-null  int32\n",
            " 3   Date         1000000 non-null  datetime64[ns]\n",
            "dtypes: datetime64[ns](1), int32(3)\n",
            "memory usage: 19.1 MB\n"
          ]
        }
      ],
      "source": [
        "data['Date'] = cudf.to_datetime(data['Date'])\n",
        "data.info()"
      ]
    },
    {
      "cell_type": "markdown",
      "metadata": {
        "id": "sjKXyUZOEYGN"
      },
      "source": [
        "<p style=\"color: yellow;\">Let's sort the ratings by date in ascending order.</p>"
      ]
    },
    {
      "cell_type": "code",
      "execution_count": 9,
      "metadata": {
        "colab": {
          "base_uri": "https://localhost:8080/",
          "height": 206
        },
        "id": "9IEGSQ64EYGO",
        "outputId": "6c320a63-e7e1-45e8-8b6a-9137222e3097"
      },
      "outputs": [
        {
          "data": {
            "text/html": [
              "<div>\n",
              "<style scoped>\n",
              "    .dataframe tbody tr th:only-of-type {\n",
              "        vertical-align: middle;\n",
              "    }\n",
              "\n",
              "    .dataframe tbody tr th {\n",
              "        vertical-align: top;\n",
              "    }\n",
              "\n",
              "    .dataframe thead th {\n",
              "        text-align: right;\n",
              "    }\n",
              "</style>\n",
              "<table border=\"1\" class=\"dataframe\">\n",
              "  <thead>\n",
              "    <tr style=\"text-align: right;\">\n",
              "      <th></th>\n",
              "      <th>Movie_Id</th>\n",
              "      <th>User_Id</th>\n",
              "      <th>User_Rating</th>\n",
              "      <th>Date</th>\n",
              "    </tr>\n",
              "  </thead>\n",
              "  <tbody>\n",
              "    <tr>\n",
              "      <th>254722</th>\n",
              "      <td>55</td>\n",
              "      <td>1972971</td>\n",
              "      <td>1</td>\n",
              "      <td>1999-12-09</td>\n",
              "    </tr>\n",
              "    <tr>\n",
              "      <th>241446</th>\n",
              "      <td>46</td>\n",
              "      <td>510180</td>\n",
              "      <td>3</td>\n",
              "      <td>1999-12-20</td>\n",
              "    </tr>\n",
              "    <tr>\n",
              "      <th>290861</th>\n",
              "      <td>77</td>\n",
              "      <td>830363</td>\n",
              "      <td>3</td>\n",
              "      <td>1999-12-21</td>\n",
              "    </tr>\n",
              "    <tr>\n",
              "      <th>233922</th>\n",
              "      <td>45</td>\n",
              "      <td>355883</td>\n",
              "      <td>2</td>\n",
              "      <td>1999-12-25</td>\n",
              "    </tr>\n",
              "    <tr>\n",
              "      <th>312691</th>\n",
              "      <td>81</td>\n",
              "      <td>1435350</td>\n",
              "      <td>4</td>\n",
              "      <td>1999-12-27</td>\n",
              "    </tr>\n",
              "  </tbody>\n",
              "</table>\n",
              "</div>"
            ],
            "text/plain": [
              "        Movie_Id  User_Id  User_Rating       Date\n",
              "254722        55  1972971            1 1999-12-09\n",
              "241446        46   510180            3 1999-12-20\n",
              "290861        77   830363            3 1999-12-21\n",
              "233922        45   355883            2 1999-12-25\n",
              "312691        81  1435350            4 1999-12-27"
            ]
          },
          "execution_count": 9,
          "metadata": {},
          "output_type": "execute_result"
        }
      ],
      "source": [
        "data= data.sort_values(by='Date')\n",
        "data.head()"
      ]
    },
    {
      "cell_type": "code",
      "execution_count": 1,
      "metadata": {
        "colab": {
          "base_uri": "https://localhost:8080/",
          "height": 206
        },
        "id": "WOXZrIg_LP37",
        "outputId": "f08470b6-201c-44f6-ab2a-a652ff819dd5"
      },
      "outputs": [
        {
          "ename": "",
          "evalue": "",
          "output_type": "error",
          "traceback": [
            "\u001b[1;31mCannot execute code, session has been disposed. Please try restarting the Kernel."
          ]
        },
        {
          "ename": "",
          "evalue": "",
          "output_type": "error",
          "traceback": [
            "\u001b[1;31mThe Kernel crashed while executing code in the the current cell or a previous cell. Please review the code in the cell(s) to identify a possible cause of the failure. Click <a href='https://aka.ms/vscodeJupyterKernelCrash'>here</a> for more info. View Jupyter <a href='command:jupyter.viewOutput'>log</a> for further details."
          ]
        }
      ],
      "source": [
        "file_path= r\"/mnt/c/Users/sandi/Desktop/My Git/Netflix Recommender System/data.csv\"\n",
        "\n",
        "# Read the CSV file line by line and split each line using the first two commas\n",
        "with open(file_path, 'r', encoding='ISO-8859-1') as file:\n",
        "    lines = file.readlines()\n",
        "\n",
        "data_list = []\n",
        "for line in lines:\n",
        "    parts = line.strip().split(',', 2)  # Split into three parts at most: Movie_Id, Year, Movie_Title\n",
        "    data_list.append(parts)\n",
        "\n",
        "# Create a DataFrame from the processed data\n",
        "movie_data = pd.DataFrame(data_list, columns=['Movie_Id', 'Year', 'Movie_Title'])\n",
        "\n",
        "# Convert 'Movie_Id' and 'Year' columns to appropriate data types\n",
        "movie_data['Movie_Id'] = movie_data['Movie_Id'].astype(int)\n",
        "movie_data['Year'] = pd.to_numeric(movie_data['Year'], errors='coerce')\n",
        "\n",
        "movie_data.head()"
      ]
    },
    {
      "cell_type": "markdown",
      "metadata": {
        "id": "22aLo_lJEYGO"
      },
      "source": [
        "\n",
        "<p style=\"color: yellow;\">Let's load the movie_titles dataframe now</p>"
      ]
    },
    {
      "cell_type": "code",
      "execution_count": null,
      "metadata": {
        "colab": {
          "base_uri": "https://localhost:8080/"
        },
        "id": "Aiy36EISEYGP",
        "outputId": "212f1c3b-5fa7-4ab8-8663-dafda07e0f89"
      },
      "outputs": [
        {
          "data": {
            "text/plain": [
              "(17770, 3)"
            ]
          },
          "execution_count": 152,
          "metadata": {},
          "output_type": "execute_result"
        }
      ],
      "source": [
        "movie_data.shape"
      ]
    },
    {
      "cell_type": "code",
      "execution_count": null,
      "metadata": {
        "colab": {
          "base_uri": "https://localhost:8080/"
        },
        "id": "7P6Qg26dEYGP",
        "outputId": "fd757b1f-7c77-4b33-8a0f-e1c5e071124b"
      },
      "outputs": [
        {
          "data": {
            "text/plain": [
              "Movie_Id       0.000000\n",
              "Year           0.000394\n",
              "Movie_Title    0.000000\n",
              "dtype: float64"
            ]
          },
          "execution_count": 153,
          "metadata": {},
          "output_type": "execute_result"
        }
      ],
      "source": [
        "movie_data.isnull().mean()"
      ]
    },
    {
      "cell_type": "markdown",
      "metadata": {
        "id": "YgZ6QCtF2IJU"
      },
      "source": [
        "As the 'Year' column in movie_data has some null values for now we will fill those values with 0."
      ]
    },
    {
      "cell_type": "code",
      "execution_count": null,
      "metadata": {
        "colab": {
          "base_uri": "https://localhost:8080/",
          "height": 206
        },
        "id": "gvxYQSnC2kKq",
        "outputId": "24e5edde-635f-4dd5-ecea-9b1232c1c268"
      },
      "outputs": [
        {
          "data": {
            "text/html": [
              "\n",
              "  <div id=\"df-51780008-6e2b-4a91-bc2a-cd581fb2d47b\" class=\"colab-df-container\">\n",
              "    <div>\n",
              "<style scoped>\n",
              "    .dataframe tbody tr th:only-of-type {\n",
              "        vertical-align: middle;\n",
              "    }\n",
              "\n",
              "    .dataframe tbody tr th {\n",
              "        vertical-align: top;\n",
              "    }\n",
              "\n",
              "    .dataframe thead th {\n",
              "        text-align: right;\n",
              "    }\n",
              "</style>\n",
              "<table border=\"1\" class=\"dataframe\">\n",
              "  <thead>\n",
              "    <tr style=\"text-align: right;\">\n",
              "      <th></th>\n",
              "      <th>Movie_Id</th>\n",
              "      <th>Year</th>\n",
              "      <th>Movie_Title</th>\n",
              "    </tr>\n",
              "  </thead>\n",
              "  <tbody>\n",
              "    <tr>\n",
              "      <th>0</th>\n",
              "      <td>1</td>\n",
              "      <td>2003.0</td>\n",
              "      <td>Dinosaur Planet</td>\n",
              "    </tr>\n",
              "    <tr>\n",
              "      <th>1</th>\n",
              "      <td>2</td>\n",
              "      <td>2004.0</td>\n",
              "      <td>Isle of Man TT 2004 Review</td>\n",
              "    </tr>\n",
              "    <tr>\n",
              "      <th>2</th>\n",
              "      <td>3</td>\n",
              "      <td>1997.0</td>\n",
              "      <td>Character</td>\n",
              "    </tr>\n",
              "    <tr>\n",
              "      <th>3</th>\n",
              "      <td>4</td>\n",
              "      <td>1994.0</td>\n",
              "      <td>Paula Abdul's Get Up &amp; Dance</td>\n",
              "    </tr>\n",
              "    <tr>\n",
              "      <th>4</th>\n",
              "      <td>5</td>\n",
              "      <td>2004.0</td>\n",
              "      <td>The Rise and Fall of ECW</td>\n",
              "    </tr>\n",
              "  </tbody>\n",
              "</table>\n",
              "</div>\n",
              "    <div class=\"colab-df-buttons\">\n",
              "\n",
              "  <div class=\"colab-df-container\">\n",
              "    <button class=\"colab-df-convert\" onclick=\"convertToInteractive('df-51780008-6e2b-4a91-bc2a-cd581fb2d47b')\"\n",
              "            title=\"Convert this dataframe to an interactive table.\"\n",
              "            style=\"display:none;\">\n",
              "\n",
              "  <svg xmlns=\"http://www.w3.org/2000/svg\" height=\"24px\" viewBox=\"0 -960 960 960\">\n",
              "    <path d=\"M120-120v-720h720v720H120Zm60-500h600v-160H180v160Zm220 220h160v-160H400v160Zm0 220h160v-160H400v160ZM180-400h160v-160H180v160Zm440 0h160v-160H620v160ZM180-180h160v-160H180v160Zm440 0h160v-160H620v160Z\"/>\n",
              "  </svg>\n",
              "    </button>\n",
              "\n",
              "  <style>\n",
              "    .colab-df-container {\n",
              "      display:flex;\n",
              "      gap: 12px;\n",
              "    }\n",
              "\n",
              "    .colab-df-convert {\n",
              "      background-color: #E8F0FE;\n",
              "      border: none;\n",
              "      border-radius: 50%;\n",
              "      cursor: pointer;\n",
              "      display: none;\n",
              "      fill: #1967D2;\n",
              "      height: 32px;\n",
              "      padding: 0 0 0 0;\n",
              "      width: 32px;\n",
              "    }\n",
              "\n",
              "    .colab-df-convert:hover {\n",
              "      background-color: #E2EBFA;\n",
              "      box-shadow: 0px 1px 2px rgba(60, 64, 67, 0.3), 0px 1px 3px 1px rgba(60, 64, 67, 0.15);\n",
              "      fill: #174EA6;\n",
              "    }\n",
              "\n",
              "    .colab-df-buttons div {\n",
              "      margin-bottom: 4px;\n",
              "    }\n",
              "\n",
              "    [theme=dark] .colab-df-convert {\n",
              "      background-color: #3B4455;\n",
              "      fill: #D2E3FC;\n",
              "    }\n",
              "\n",
              "    [theme=dark] .colab-df-convert:hover {\n",
              "      background-color: #434B5C;\n",
              "      box-shadow: 0px 1px 3px 1px rgba(0, 0, 0, 0.15);\n",
              "      filter: drop-shadow(0px 1px 2px rgba(0, 0, 0, 0.3));\n",
              "      fill: #FFFFFF;\n",
              "    }\n",
              "  </style>\n",
              "\n",
              "    <script>\n",
              "      const buttonEl =\n",
              "        document.querySelector('#df-51780008-6e2b-4a91-bc2a-cd581fb2d47b button.colab-df-convert');\n",
              "      buttonEl.style.display =\n",
              "        google.colab.kernel.accessAllowed ? 'block' : 'none';\n",
              "\n",
              "      async function convertToInteractive(key) {\n",
              "        const element = document.querySelector('#df-51780008-6e2b-4a91-bc2a-cd581fb2d47b');\n",
              "        const dataTable =\n",
              "          await google.colab.kernel.invokeFunction('convertToInteractive',\n",
              "                                                    [key], {});\n",
              "        if (!dataTable) return;\n",
              "\n",
              "        const docLinkHtml = 'Like what you see? Visit the ' +\n",
              "          '<a target=\"_blank\" href=https://colab.research.google.com/notebooks/data_table.ipynb>data table notebook</a>'\n",
              "          + ' to learn more about interactive tables.';\n",
              "        element.innerHTML = '';\n",
              "        dataTable['output_type'] = 'display_data';\n",
              "        await google.colab.output.renderOutput(dataTable, element);\n",
              "        const docLink = document.createElement('div');\n",
              "        docLink.innerHTML = docLinkHtml;\n",
              "        element.appendChild(docLink);\n",
              "      }\n",
              "    </script>\n",
              "  </div>\n",
              "\n",
              "\n",
              "<div id=\"df-032e2938-e066-4b41-89b9-84e3b96f8d93\">\n",
              "  <button class=\"colab-df-quickchart\" onclick=\"quickchart('df-032e2938-e066-4b41-89b9-84e3b96f8d93')\"\n",
              "            title=\"Suggest charts.\"\n",
              "            style=\"display:none;\">\n",
              "\n",
              "<svg xmlns=\"http://www.w3.org/2000/svg\" height=\"24px\"viewBox=\"0 0 24 24\"\n",
              "     width=\"24px\">\n",
              "    <g>\n",
              "        <path d=\"M19 3H5c-1.1 0-2 .9-2 2v14c0 1.1.9 2 2 2h14c1.1 0 2-.9 2-2V5c0-1.1-.9-2-2-2zM9 17H7v-7h2v7zm4 0h-2V7h2v10zm4 0h-2v-4h2v4z\"/>\n",
              "    </g>\n",
              "</svg>\n",
              "  </button>\n",
              "\n",
              "<style>\n",
              "  .colab-df-quickchart {\n",
              "    background-color: #E8F0FE;\n",
              "    border: none;\n",
              "    border-radius: 50%;\n",
              "    cursor: pointer;\n",
              "    display: none;\n",
              "    fill: #1967D2;\n",
              "    height: 32px;\n",
              "    padding: 0 0 0 0;\n",
              "    width: 32px;\n",
              "  }\n",
              "\n",
              "  .colab-df-quickchart:hover {\n",
              "    background-color: #E2EBFA;\n",
              "    box-shadow: 0px 1px 2px rgba(60, 64, 67, 0.3), 0px 1px 3px 1px rgba(60, 64, 67, 0.15);\n",
              "    fill: #174EA6;\n",
              "  }\n",
              "\n",
              "  [theme=dark] .colab-df-quickchart {\n",
              "    background-color: #3B4455;\n",
              "    fill: #D2E3FC;\n",
              "  }\n",
              "\n",
              "  [theme=dark] .colab-df-quickchart:hover {\n",
              "    background-color: #434B5C;\n",
              "    box-shadow: 0px 1px 3px 1px rgba(0, 0, 0, 0.15);\n",
              "    filter: drop-shadow(0px 1px 2px rgba(0, 0, 0, 0.3));\n",
              "    fill: #FFFFFF;\n",
              "  }\n",
              "</style>\n",
              "\n",
              "  <script>\n",
              "    async function quickchart(key) {\n",
              "      const charts = await google.colab.kernel.invokeFunction(\n",
              "          'suggestCharts', [key], {});\n",
              "    }\n",
              "    (() => {\n",
              "      let quickchartButtonEl =\n",
              "        document.querySelector('#df-032e2938-e066-4b41-89b9-84e3b96f8d93 button');\n",
              "      quickchartButtonEl.style.display =\n",
              "        google.colab.kernel.accessAllowed ? 'block' : 'none';\n",
              "    })();\n",
              "  </script>\n",
              "</div>\n",
              "    </div>\n",
              "  </div>\n"
            ],
            "text/plain": [
              "   Movie_Id    Year                   Movie_Title\n",
              "0         1  2003.0               Dinosaur Planet\n",
              "1         2  2004.0    Isle of Man TT 2004 Review\n",
              "2         3  1997.0                     Character\n",
              "3         4  1994.0  Paula Abdul's Get Up & Dance\n",
              "4         5  2004.0      The Rise and Fall of ECW"
            ]
          },
          "execution_count": 154,
          "metadata": {},
          "output_type": "execute_result"
        }
      ],
      "source": [
        "movie_data= movie_data.fillna(0)\n",
        "\n",
        "movie_data.head()"
      ]
    },
    {
      "cell_type": "code",
      "execution_count": null,
      "metadata": {
        "colab": {
          "base_uri": "https://localhost:8080/"
        },
        "id": "Pq9se6tG2vdv",
        "outputId": "5e387f8a-7f90-4561-f573-fe6f5d5ad6c1"
      },
      "outputs": [
        {
          "data": {
            "text/plain": [
              "Movie_Id       0.0\n",
              "Year           0.0\n",
              "Movie_Title    0.0\n",
              "dtype: float64"
            ]
          },
          "execution_count": 155,
          "metadata": {},
          "output_type": "execute_result"
        }
      ],
      "source": [
        "movie_data.isnull().mean()"
      ]
    },
    {
      "cell_type": "code",
      "execution_count": null,
      "metadata": {
        "colab": {
          "base_uri": "https://localhost:8080/"
        },
        "id": "mYIzD6pFEYGP",
        "outputId": "7ca675d3-32dc-4c93-d4c8-7cb132d088c3"
      },
      "outputs": [
        {
          "name": "stdout",
          "output_type": "stream",
          "text": [
            "<class 'pandas.core.frame.DataFrame'>\n",
            "RangeIndex: 17770 entries, 0 to 17769\n",
            "Data columns (total 3 columns):\n",
            " #   Column       Non-Null Count  Dtype  \n",
            "---  ------       --------------  -----  \n",
            " 0   Movie_Id     17770 non-null  int64  \n",
            " 1   Year         17770 non-null  float64\n",
            " 2   Movie_Title  17770 non-null  object \n",
            "dtypes: float64(1), int64(1), object(1)\n",
            "memory usage: 416.6+ KB\n"
          ]
        }
      ],
      "source": [
        "movie_data.info()"
      ]
    },
    {
      "cell_type": "code",
      "execution_count": null,
      "metadata": {
        "colab": {
          "base_uri": "https://localhost:8080/"
        },
        "id": "khlWQ_NXEYGP",
        "outputId": "0f337b05-9a17-4603-e7be-618990dc184b"
      },
      "outputs": [
        {
          "data": {
            "text/plain": [
              "Index             128\n",
              "Movie_Id       142160\n",
              "Year           142160\n",
              "Movie_Title    142160\n",
              "dtype: int64"
            ]
          },
          "execution_count": 157,
          "metadata": {},
          "output_type": "execute_result"
        }
      ],
      "source": [
        "movie_data.memory_usage()"
      ]
    },
    {
      "cell_type": "code",
      "execution_count": null,
      "metadata": {
        "colab": {
          "base_uri": "https://localhost:8080/"
        },
        "id": "f8iehJRd5L99",
        "outputId": "9be31af6-e2f7-438e-db42-c56d2594a53b"
      },
      "outputs": [
        {
          "data": {
            "text/plain": [
              "pandas.core.frame.DataFrame"
            ]
          },
          "execution_count": 158,
          "metadata": {},
          "output_type": "execute_result"
        }
      ],
      "source": [
        "type(movie_data)"
      ]
    },
    {
      "cell_type": "code",
      "execution_count": null,
      "metadata": {
        "id": "w8G-EweK3Tra"
      },
      "outputs": [],
      "source": [
        "Unique_Movie_Titles_List = list(data['Movie_Id'].unique().to_pandas())"
      ]
    },
    {
      "cell_type": "code",
      "execution_count": null,
      "metadata": {
        "colab": {
          "base_uri": "https://localhost:8080/"
        },
        "id": "IEOy_k695y6x",
        "outputId": "fce0b1dc-525e-45a4-d36f-79d808f10d94"
      },
      "outputs": [
        {
          "data": {
            "text/plain": [
              "225"
            ]
          },
          "execution_count": 160,
          "metadata": {},
          "output_type": "execute_result"
        }
      ],
      "source": [
        "len(Unique_Movie_Titles_List)"
      ]
    },
    {
      "cell_type": "code",
      "execution_count": null,
      "metadata": {
        "colab": {
          "base_uri": "https://localhost:8080/",
          "height": 206
        },
        "id": "kWygbZ8K3QR-",
        "outputId": "85de9269-544e-4250-a9ba-b5036a7cd8d0"
      },
      "outputs": [
        {
          "data": {
            "text/html": [
              "\n",
              "  <div id=\"df-18e9ff8c-02fe-46f3-8e4d-f94a9401b32c\" class=\"colab-df-container\">\n",
              "    <div>\n",
              "<style scoped>\n",
              "    .dataframe tbody tr th:only-of-type {\n",
              "        vertical-align: middle;\n",
              "    }\n",
              "\n",
              "    .dataframe tbody tr th {\n",
              "        vertical-align: top;\n",
              "    }\n",
              "\n",
              "    .dataframe thead th {\n",
              "        text-align: right;\n",
              "    }\n",
              "</style>\n",
              "<table border=\"1\" class=\"dataframe\">\n",
              "  <thead>\n",
              "    <tr style=\"text-align: right;\">\n",
              "      <th></th>\n",
              "      <th>Movie_Id</th>\n",
              "      <th>Year</th>\n",
              "      <th>Movie_Title</th>\n",
              "    </tr>\n",
              "  </thead>\n",
              "  <tbody>\n",
              "    <tr>\n",
              "      <th>0</th>\n",
              "      <td>1</td>\n",
              "      <td>2003.0</td>\n",
              "      <td>Dinosaur Planet</td>\n",
              "    </tr>\n",
              "    <tr>\n",
              "      <th>1</th>\n",
              "      <td>2</td>\n",
              "      <td>2004.0</td>\n",
              "      <td>Isle of Man TT 2004 Review</td>\n",
              "    </tr>\n",
              "    <tr>\n",
              "      <th>2</th>\n",
              "      <td>3</td>\n",
              "      <td>1997.0</td>\n",
              "      <td>Character</td>\n",
              "    </tr>\n",
              "    <tr>\n",
              "      <th>3</th>\n",
              "      <td>4</td>\n",
              "      <td>1994.0</td>\n",
              "      <td>Paula Abdul's Get Up &amp; Dance</td>\n",
              "    </tr>\n",
              "    <tr>\n",
              "      <th>4</th>\n",
              "      <td>5</td>\n",
              "      <td>2004.0</td>\n",
              "      <td>The Rise and Fall of ECW</td>\n",
              "    </tr>\n",
              "  </tbody>\n",
              "</table>\n",
              "</div>\n",
              "    <div class=\"colab-df-buttons\">\n",
              "\n",
              "  <div class=\"colab-df-container\">\n",
              "    <button class=\"colab-df-convert\" onclick=\"convertToInteractive('df-18e9ff8c-02fe-46f3-8e4d-f94a9401b32c')\"\n",
              "            title=\"Convert this dataframe to an interactive table.\"\n",
              "            style=\"display:none;\">\n",
              "\n",
              "  <svg xmlns=\"http://www.w3.org/2000/svg\" height=\"24px\" viewBox=\"0 -960 960 960\">\n",
              "    <path d=\"M120-120v-720h720v720H120Zm60-500h600v-160H180v160Zm220 220h160v-160H400v160Zm0 220h160v-160H400v160ZM180-400h160v-160H180v160Zm440 0h160v-160H620v160ZM180-180h160v-160H180v160Zm440 0h160v-160H620v160Z\"/>\n",
              "  </svg>\n",
              "    </button>\n",
              "\n",
              "  <style>\n",
              "    .colab-df-container {\n",
              "      display:flex;\n",
              "      gap: 12px;\n",
              "    }\n",
              "\n",
              "    .colab-df-convert {\n",
              "      background-color: #E8F0FE;\n",
              "      border: none;\n",
              "      border-radius: 50%;\n",
              "      cursor: pointer;\n",
              "      display: none;\n",
              "      fill: #1967D2;\n",
              "      height: 32px;\n",
              "      padding: 0 0 0 0;\n",
              "      width: 32px;\n",
              "    }\n",
              "\n",
              "    .colab-df-convert:hover {\n",
              "      background-color: #E2EBFA;\n",
              "      box-shadow: 0px 1px 2px rgba(60, 64, 67, 0.3), 0px 1px 3px 1px rgba(60, 64, 67, 0.15);\n",
              "      fill: #174EA6;\n",
              "    }\n",
              "\n",
              "    .colab-df-buttons div {\n",
              "      margin-bottom: 4px;\n",
              "    }\n",
              "\n",
              "    [theme=dark] .colab-df-convert {\n",
              "      background-color: #3B4455;\n",
              "      fill: #D2E3FC;\n",
              "    }\n",
              "\n",
              "    [theme=dark] .colab-df-convert:hover {\n",
              "      background-color: #434B5C;\n",
              "      box-shadow: 0px 1px 3px 1px rgba(0, 0, 0, 0.15);\n",
              "      filter: drop-shadow(0px 1px 2px rgba(0, 0, 0, 0.3));\n",
              "      fill: #FFFFFF;\n",
              "    }\n",
              "  </style>\n",
              "\n",
              "    <script>\n",
              "      const buttonEl =\n",
              "        document.querySelector('#df-18e9ff8c-02fe-46f3-8e4d-f94a9401b32c button.colab-df-convert');\n",
              "      buttonEl.style.display =\n",
              "        google.colab.kernel.accessAllowed ? 'block' : 'none';\n",
              "\n",
              "      async function convertToInteractive(key) {\n",
              "        const element = document.querySelector('#df-18e9ff8c-02fe-46f3-8e4d-f94a9401b32c');\n",
              "        const dataTable =\n",
              "          await google.colab.kernel.invokeFunction('convertToInteractive',\n",
              "                                                    [key], {});\n",
              "        if (!dataTable) return;\n",
              "\n",
              "        const docLinkHtml = 'Like what you see? Visit the ' +\n",
              "          '<a target=\"_blank\" href=https://colab.research.google.com/notebooks/data_table.ipynb>data table notebook</a>'\n",
              "          + ' to learn more about interactive tables.';\n",
              "        element.innerHTML = '';\n",
              "        dataTable['output_type'] = 'display_data';\n",
              "        await google.colab.output.renderOutput(dataTable, element);\n",
              "        const docLink = document.createElement('div');\n",
              "        docLink.innerHTML = docLinkHtml;\n",
              "        element.appendChild(docLink);\n",
              "      }\n",
              "    </script>\n",
              "  </div>\n",
              "\n",
              "\n",
              "<div id=\"df-6b21c482-4c11-422c-b345-cade140998ba\">\n",
              "  <button class=\"colab-df-quickchart\" onclick=\"quickchart('df-6b21c482-4c11-422c-b345-cade140998ba')\"\n",
              "            title=\"Suggest charts.\"\n",
              "            style=\"display:none;\">\n",
              "\n",
              "<svg xmlns=\"http://www.w3.org/2000/svg\" height=\"24px\"viewBox=\"0 0 24 24\"\n",
              "     width=\"24px\">\n",
              "    <g>\n",
              "        <path d=\"M19 3H5c-1.1 0-2 .9-2 2v14c0 1.1.9 2 2 2h14c1.1 0 2-.9 2-2V5c0-1.1-.9-2-2-2zM9 17H7v-7h2v7zm4 0h-2V7h2v10zm4 0h-2v-4h2v4z\"/>\n",
              "    </g>\n",
              "</svg>\n",
              "  </button>\n",
              "\n",
              "<style>\n",
              "  .colab-df-quickchart {\n",
              "    background-color: #E8F0FE;\n",
              "    border: none;\n",
              "    border-radius: 50%;\n",
              "    cursor: pointer;\n",
              "    display: none;\n",
              "    fill: #1967D2;\n",
              "    height: 32px;\n",
              "    padding: 0 0 0 0;\n",
              "    width: 32px;\n",
              "  }\n",
              "\n",
              "  .colab-df-quickchart:hover {\n",
              "    background-color: #E2EBFA;\n",
              "    box-shadow: 0px 1px 2px rgba(60, 64, 67, 0.3), 0px 1px 3px 1px rgba(60, 64, 67, 0.15);\n",
              "    fill: #174EA6;\n",
              "  }\n",
              "\n",
              "  [theme=dark] .colab-df-quickchart {\n",
              "    background-color: #3B4455;\n",
              "    fill: #D2E3FC;\n",
              "  }\n",
              "\n",
              "  [theme=dark] .colab-df-quickchart:hover {\n",
              "    background-color: #434B5C;\n",
              "    box-shadow: 0px 1px 3px 1px rgba(0, 0, 0, 0.15);\n",
              "    filter: drop-shadow(0px 1px 2px rgba(0, 0, 0, 0.3));\n",
              "    fill: #FFFFFF;\n",
              "  }\n",
              "</style>\n",
              "\n",
              "  <script>\n",
              "    async function quickchart(key) {\n",
              "      const charts = await google.colab.kernel.invokeFunction(\n",
              "          'suggestCharts', [key], {});\n",
              "    }\n",
              "    (() => {\n",
              "      let quickchartButtonEl =\n",
              "        document.querySelector('#df-6b21c482-4c11-422c-b345-cade140998ba button');\n",
              "      quickchartButtonEl.style.display =\n",
              "        google.colab.kernel.accessAllowed ? 'block' : 'none';\n",
              "    })();\n",
              "  </script>\n",
              "</div>\n",
              "    </div>\n",
              "  </div>\n"
            ],
            "text/plain": [
              "   Movie_Id    Year                   Movie_Title\n",
              "0         1  2003.0               Dinosaur Planet\n",
              "1         2  2004.0    Isle of Man TT 2004 Review\n",
              "2         3  1997.0                     Character\n",
              "3         4  1994.0  Paula Abdul's Get Up & Dance\n",
              "4         5  2004.0      The Rise and Fall of ECW"
            ]
          },
          "execution_count": 161,
          "metadata": {},
          "output_type": "execute_result"
        }
      ],
      "source": [
        "# Filter movie_data based on Unique_Movie_Titles_List\n",
        "filtered_movie_data = movie_data[movie_data['Movie_Id'].isin(Unique_Movie_Titles_List)]\n",
        "\n",
        "filtered_movie_data.head()\n"
      ]
    },
    {
      "cell_type": "code",
      "execution_count": null,
      "metadata": {
        "colab": {
          "base_uri": "https://localhost:8080/",
          "height": 206
        },
        "id": "PFhTvqOKuc9w",
        "outputId": "7d8c6e01-ac70-460a-f32e-dc3b870ba48f"
      },
      "outputs": [
        {
          "data": {
            "text/html": [
              "<div>\n",
              "<style scoped>\n",
              "    .dataframe tbody tr th:only-of-type {\n",
              "        vertical-align: middle;\n",
              "    }\n",
              "\n",
              "    .dataframe tbody tr th {\n",
              "        vertical-align: top;\n",
              "    }\n",
              "\n",
              "    .dataframe thead th {\n",
              "        text-align: right;\n",
              "    }\n",
              "</style>\n",
              "<table border=\"1\" class=\"dataframe\">\n",
              "  <thead>\n",
              "    <tr style=\"text-align: right;\">\n",
              "      <th></th>\n",
              "      <th>Movie_Id</th>\n",
              "      <th>Year</th>\n",
              "      <th>Movie_Title</th>\n",
              "    </tr>\n",
              "  </thead>\n",
              "  <tbody>\n",
              "    <tr>\n",
              "      <th>0</th>\n",
              "      <td>1</td>\n",
              "      <td>2003.0</td>\n",
              "      <td>Dinosaur Planet</td>\n",
              "    </tr>\n",
              "    <tr>\n",
              "      <th>1</th>\n",
              "      <td>2</td>\n",
              "      <td>2004.0</td>\n",
              "      <td>Isle of Man TT 2004 Review</td>\n",
              "    </tr>\n",
              "    <tr>\n",
              "      <th>2</th>\n",
              "      <td>3</td>\n",
              "      <td>1997.0</td>\n",
              "      <td>Character</td>\n",
              "    </tr>\n",
              "    <tr>\n",
              "      <th>3</th>\n",
              "      <td>4</td>\n",
              "      <td>1994.0</td>\n",
              "      <td>Paula Abdul's Get Up &amp; Dance</td>\n",
              "    </tr>\n",
              "    <tr>\n",
              "      <th>4</th>\n",
              "      <td>5</td>\n",
              "      <td>2004.0</td>\n",
              "      <td>The Rise and Fall of ECW</td>\n",
              "    </tr>\n",
              "  </tbody>\n",
              "</table>\n",
              "</div>"
            ],
            "text/plain": [
              "   Movie_Id    Year                   Movie_Title\n",
              "0         1  2003.0               Dinosaur Planet\n",
              "1         2  2004.0    Isle of Man TT 2004 Review\n",
              "2         3  1997.0                     Character\n",
              "3         4  1994.0  Paula Abdul's Get Up & Dance\n",
              "4         5  2004.0      The Rise and Fall of ECW"
            ]
          },
          "execution_count": 162,
          "metadata": {},
          "output_type": "execute_result"
        }
      ],
      "source": [
        "movie_data_cudf= cudf.from_pandas(filtered_movie_data)\n",
        "\n",
        "movie_data_cudf.head()"
      ]
    },
    {
      "cell_type": "code",
      "execution_count": null,
      "metadata": {
        "colab": {
          "base_uri": "https://localhost:8080/"
        },
        "id": "PMRHy6We7LRs",
        "outputId": "8b794e96-b555-4f15-fe31-ab2c985c74e5"
      },
      "outputs": [
        {
          "data": {
            "text/plain": [
              "(225, 3)"
            ]
          },
          "execution_count": 163,
          "metadata": {},
          "output_type": "execute_result"
        }
      ],
      "source": [
        "movie_data_cudf.shape"
      ]
    },
    {
      "cell_type": "code",
      "execution_count": 165,
      "metadata": {
        "colab": {
          "base_uri": "https://localhost:8080/"
        },
        "id": "vHZwAlhxsSWj",
        "outputId": "ac3eda2c-2c70-43c0-9f82-aacb4a122406"
      },
      "outputs": [
        {
          "name": "stdout",
          "output_type": "stream",
          "text": [
            "Directors:\n",
            "David Niblock\n",
            "First Three Actors:\n",
            "Simon McGregor-Wood, John Ingram, Gary Johnson\n",
            "First Three Genres:\n",
            "Documentary\n",
            "Year of Release: 2012\n"
          ]
        }
      ],
      "source": [
        "from imdb import IMDb\n",
        "\n",
        "ia = IMDb()\n",
        "\n",
        "# Searching for the movie\n",
        "movies = ia.search_movie('Isle of Man TT 2004 Review')\n",
        "\n",
        "# Assuming you want to work with the first search result\n",
        "if movies:\n",
        "    movie = movies[0]\n",
        "\n",
        "    # Fetching the complete information for the movie\n",
        "    ia.update(movie, info=['main', 'cast'])\n",
        "\n",
        "    # Printing the names of the directors of the movie\n",
        "    print('Directors:')\n",
        "    for director in movie['directors']:\n",
        "        print(director['name'])\n",
        "\n",
        "    # Printing the first three actor names separated by commas\n",
        "    print('First Three Actors:')\n",
        "    actor_names = [actor['name'] for actor in movie['cast'][:3]]\n",
        "    print(', '.join(actor_names))\n",
        "\n",
        "    # Printing the first three genres separated by commas\n",
        "    print('First Three Genres:')\n",
        "    genre_names = movie['genres'][:3]\n",
        "    print(', '.join(genre_names))\n",
        "\n",
        "    # Printing the year of release\n",
        "    print('Year of Release:', movie['year'])\n",
        "else:\n",
        "    print('No movie found with the given title.')\n"
      ]
    },
    {
      "cell_type": "code",
      "execution_count": 166,
      "metadata": {
        "colab": {
          "base_uri": "https://localhost:8080/"
        },
        "id": "ItO03kkJtb-H",
        "outputId": "722bbaf5-c581-490e-aa4d-52141f981ec8"
      },
      "outputs": [
        {
          "name": "stdout",
          "output_type": "stream",
          "text": [
            "Directors:\n",
            "Kevin Dunn\n",
            "First Three Actors:\n",
            "Abdullah the Butcher, Donna Adamo, Bill Alfonso\n",
            "First Three Genres:\n",
            "Documentary, Sport\n",
            "Year of Release: 2004\n"
          ]
        }
      ],
      "source": [
        "from imdb import IMDb\n",
        "\n",
        "ia = IMDb()\n",
        "\n",
        "# Searching for the movie\n",
        "movies = ia.search_movie('The Rise and Fall of ECW')\n",
        "\n",
        "# Assuming you want to work with the first search result\n",
        "if movies:\n",
        "    movie = movies[0]\n",
        "\n",
        "    # Fetching the complete information for the movie\n",
        "    ia.update(movie, info=['main', 'cast'])\n",
        "\n",
        "    # Printing the names of the directors of the movie\n",
        "    print('Directors:')\n",
        "    for director in movie['directors']:\n",
        "        print(director['name'])\n",
        "\n",
        "    # Printing the first three actor names separated by commas\n",
        "    print('First Three Actors:')\n",
        "    actor_names = [actor['name'] for actor in movie['cast'][:3]]\n",
        "    print(', '.join(actor_names))\n",
        "\n",
        "    # Printing the first three genres separated by commas\n",
        "    print('First Three Genres:')\n",
        "    genre_names = movie['genres'][:3]\n",
        "    print(', '.join(genre_names))\n",
        "\n",
        "    # Printing the year of release\n",
        "    print('Year of Release:', movie['year'])\n",
        "else:\n",
        "    print('No movie found with the given title.')"
      ]
    },
    {
      "cell_type": "code",
      "execution_count": 167,
      "metadata": {
        "colab": {
          "base_uri": "https://localhost:8080/"
        },
        "id": "SjQGuuLk7jeW",
        "outputId": "8389b55b-dec6-4979-b833-d3e87e9e172b"
      },
      "outputs": [
        {
          "data": {
            "text/plain": [
              "cudf.core.dataframe.DataFrame"
            ]
          },
          "execution_count": 167,
          "metadata": {},
          "output_type": "execute_result"
        }
      ],
      "source": [
        "type(movie_data_cudf)"
      ]
    },
    {
      "cell_type": "code",
      "execution_count": 168,
      "metadata": {
        "colab": {
          "base_uri": "https://localhost:8080/"
        },
        "id": "zVXtdOsZ_AK6",
        "outputId": "08996c47-14ac-412f-9885-5f30b3015a68"
      },
      "outputs": [
        {
          "name": "stdout",
          "output_type": "stream",
          "text": [
            "<class 'cudf.core.dataframe.DataFrame'>\n",
            "Int64Index: 225 entries, 0 to 224\n",
            "Data columns (total 3 columns):\n",
            " #   Column       Non-Null Count  Dtype\n",
            "---  ------       --------------  -----\n",
            " 0   Movie_Id     225 non-null    int64\n",
            " 1   Year         225 non-null    float64\n",
            " 2   Movie_Title  225 non-null    object\n",
            "dtypes: float64(1), int64(1), object(1)\n",
            "memory usage: 10.8+ KB\n"
          ]
        }
      ],
      "source": [
        "movie_data_cudf.info()"
      ]
    },
    {
      "cell_type": "code",
      "execution_count": 169,
      "metadata": {
        "colab": {
          "base_uri": "https://localhost:8080/",
          "height": 206
        },
        "id": "aEeFfq2BLsb_",
        "outputId": "feef9246-ab0f-49b0-9b83-ea2ece878629"
      },
      "outputs": [
        {
          "data": {
            "text/html": [
              "<div>\n",
              "<style scoped>\n",
              "    .dataframe tbody tr th:only-of-type {\n",
              "        vertical-align: middle;\n",
              "    }\n",
              "\n",
              "    .dataframe tbody tr th {\n",
              "        vertical-align: top;\n",
              "    }\n",
              "\n",
              "    .dataframe thead th {\n",
              "        text-align: right;\n",
              "    }\n",
              "</style>\n",
              "<table border=\"1\" class=\"dataframe\">\n",
              "  <thead>\n",
              "    <tr style=\"text-align: right;\">\n",
              "      <th></th>\n",
              "      <th>Movie_Id</th>\n",
              "      <th>Year</th>\n",
              "      <th>Movie_Title</th>\n",
              "      <th>Director1</th>\n",
              "      <th>Actor1</th>\n",
              "      <th>Actor2</th>\n",
              "      <th>Actor3</th>\n",
              "      <th>Genre1</th>\n",
              "      <th>Genre2</th>\n",
              "      <th>Genre3</th>\n",
              "    </tr>\n",
              "  </thead>\n",
              "  <tbody>\n",
              "    <tr>\n",
              "      <th>0</th>\n",
              "      <td>1</td>\n",
              "      <td>2003.0</td>\n",
              "      <td>Dinosaur Planet</td>\n",
              "      <td>William K.L. Dickson</td>\n",
              "      <td>Carmencita</td>\n",
              "      <td>&lt;NA&gt;</td>\n",
              "      <td>&lt;NA&gt;</td>\n",
              "      <td>Documentary</td>\n",
              "      <td>Short</td>\n",
              "      <td>&lt;NA&gt;</td>\n",
              "    </tr>\n",
              "    <tr>\n",
              "      <th>1</th>\n",
              "      <td>2</td>\n",
              "      <td>2004.0</td>\n",
              "      <td>Isle of Man TT 2004 Review</td>\n",
              "      <td>Émile Reynaud</td>\n",
              "      <td></td>\n",
              "      <td>&lt;NA&gt;</td>\n",
              "      <td>&lt;NA&gt;</td>\n",
              "      <td>Animation</td>\n",
              "      <td>Short</td>\n",
              "      <td>&lt;NA&gt;</td>\n",
              "    </tr>\n",
              "    <tr>\n",
              "      <th>2</th>\n",
              "      <td>3</td>\n",
              "      <td>1997.0</td>\n",
              "      <td>Character</td>\n",
              "      <td>Émile Reynaud</td>\n",
              "      <td></td>\n",
              "      <td>&lt;NA&gt;</td>\n",
              "      <td>&lt;NA&gt;</td>\n",
              "      <td>Animation</td>\n",
              "      <td>Comedy</td>\n",
              "      <td>Short</td>\n",
              "    </tr>\n",
              "    <tr>\n",
              "      <th>3</th>\n",
              "      <td>4</td>\n",
              "      <td>1994.0</td>\n",
              "      <td>Paula Abdul's Get Up &amp; Dance</td>\n",
              "      <td>Émile Reynaud</td>\n",
              "      <td></td>\n",
              "      <td>&lt;NA&gt;</td>\n",
              "      <td>&lt;NA&gt;</td>\n",
              "      <td>Animation</td>\n",
              "      <td>Short</td>\n",
              "      <td>&lt;NA&gt;</td>\n",
              "    </tr>\n",
              "    <tr>\n",
              "      <th>4</th>\n",
              "      <td>5</td>\n",
              "      <td>2004.0</td>\n",
              "      <td>The Rise and Fall of ECW</td>\n",
              "      <td>William K.L. Dickson</td>\n",
              "      <td>Charles Kayser</td>\n",
              "      <td>John Ott</td>\n",
              "      <td>&lt;NA&gt;</td>\n",
              "      <td>Short</td>\n",
              "      <td>Comedy</td>\n",
              "      <td>&lt;NA&gt;</td>\n",
              "    </tr>\n",
              "  </tbody>\n",
              "</table>\n",
              "</div>"
            ],
            "text/plain": [
              "   Movie_Id    Year                   Movie_Title             Director1  \\\n",
              "0         1  2003.0               Dinosaur Planet  William K.L. Dickson   \n",
              "1         2  2004.0    Isle of Man TT 2004 Review         Émile Reynaud   \n",
              "2         3  1997.0                     Character         Émile Reynaud   \n",
              "3         4  1994.0  Paula Abdul's Get Up & Dance         Émile Reynaud   \n",
              "4         5  2004.0      The Rise and Fall of ECW  William K.L. Dickson   \n",
              "\n",
              "           Actor1    Actor2 Actor3       Genre1  Genre2 Genre3  \n",
              "0      Carmencita      <NA>   <NA>  Documentary   Short   <NA>  \n",
              "1                      <NA>   <NA>    Animation   Short   <NA>  \n",
              "2                      <NA>   <NA>    Animation  Comedy  Short  \n",
              "3                      <NA>   <NA>    Animation   Short   <NA>  \n",
              "4  Charles Kayser  John Ott   <NA>        Short  Comedy   <NA>  "
            ]
          },
          "execution_count": 169,
          "metadata": {},
          "output_type": "execute_result"
        }
      ],
      "source": [
        "import cudf\n",
        "import pandas as pd\n",
        "from imdb import IMDb\n",
        "\n",
        "# IMDb instance\n",
        "ia = IMDb()\n",
        "\n",
        "# Define a function to extract and format director names\n",
        "def get_directors(movie_id):\n",
        "    movie = ia.get_movie(movie_id)\n",
        "    ia.update(movie, info=['main'])\n",
        "\n",
        "    directors = movie.get('directors', [])\n",
        "    director_names = [director.get('name', None) for director in directors]\n",
        "    return \", \".join(director_names[:2]) if director_names else None\n",
        "\n",
        "# Define a function to extract and format actor names\n",
        "def get_actors(movie_id):\n",
        "    movie = ia.get_movie(movie_id)\n",
        "    ia.update(movie, info=['cast'])\n",
        "\n",
        "    cast = movie.get('cast', [])\n",
        "    actor_names = [actor.get('name', None) for actor in cast[:3]]\n",
        "    return \", \".join(actor_names)\n",
        "\n",
        "# Define a function to extract and format genre names\n",
        "def get_genres(movie_id):\n",
        "    movie = ia.get_movie(movie_id)\n",
        "    ia.update(movie, info=['main'])\n",
        "\n",
        "    genres = movie.get('genres', [])\n",
        "    return \", \".join(genres[:3])\n",
        "\n",
        "# Assuming you already have 'movie_data_cudf' DataFrame\n",
        "\n",
        "# Convert cudf DataFrame to pandas DataFrame\n",
        "movie_data_pandas = movie_data_cudf.to_pandas()\n",
        "\n",
        "# Apply the defined functions using pandas\n",
        "movie_data_pandas['Director1'] = movie_data_pandas['Movie_Id'].apply(get_directors)\n",
        "movie_data_pandas[['Actor1', 'Actor2', 'Actor3']] = movie_data_pandas['Movie_Id'].apply(get_actors).str.split(', ', expand=True)\n",
        "movie_data_pandas[['Genre1', 'Genre2', 'Genre3']] = movie_data_pandas['Movie_Id'].apply(get_genres).str.split(', ', expand=True)\n",
        "\n",
        "# Convert back to cudf DataFrame\n",
        "movie_data_cudf = cudf.from_pandas(movie_data_pandas)\n",
        "\n",
        "# Display the first few rows of the resulting cudf DataFrame\n",
        "movie_data_cudf.head()"
      ]
    },
    {
      "cell_type": "code",
      "execution_count": 170,
      "metadata": {
        "colab": {
          "base_uri": "https://localhost:8080/"
        },
        "id": "ZG8hmZaoIZA9",
        "outputId": "49b4e226-77b9-4767-839f-d5f1fb178292"
      },
      "outputs": [
        {
          "data": {
            "text/plain": [
              "Movie_Id       0.000000\n",
              "Year           0.000000\n",
              "Movie_Title    0.000000\n",
              "Director1      0.048889\n",
              "Actor1         0.000000\n",
              "Actor2         0.880000\n",
              "Actor3         0.955556\n",
              "Genre1         0.000000\n",
              "Genre2         0.288889\n",
              "Genre3         0.924444\n",
              "dtype: float64"
            ]
          },
          "execution_count": 170,
          "metadata": {},
          "output_type": "execute_result"
        }
      ],
      "source": [
        "movie_data_cudf.isnull().mean()"
      ]
    },
    {
      "cell_type": "code",
      "execution_count": null,
      "metadata": {
        "id": "M37hbQa4uxN6"
      },
      "outputs": [],
      "source": [
        "path=r'C:\\Users\\sandi\\Desktop\\My Git\\Netflix Recommender System'\n",
        "\n",
        "movie_data_cudf.to_csv(path+movie_data_cudf.csv)"
      ]
    },
    {
      "cell_type": "markdown",
      "metadata": {
        "id": "9ReyAryztmPh"
      },
      "source": [
        "From the above we can see features such as 'Actor2', 'Actor3', 'Genre3' etc. has a large percentage of null values, so we will remove those columns. For 'Genre2' also there is a large number of null values, so we have to remove that column too. But before that we will save a copy of this dataframe into csv so taht we can resume our work form at this point where we want."
      ]
    },
    {
      "cell_type": "markdown",
      "metadata": {
        "id": "yGMlzDyQsBsg"
      },
      "source": [
        "We will extract some more features using Cinemagoer library."
      ]
    },
    {
      "cell_type": "code",
      "execution_count": null,
      "metadata": {
        "colab": {
          "base_uri": "https://localhost:8080/",
          "height": 206
        },
        "id": "KLIBXEudle13",
        "outputId": "47d46e3e-8db4-4730-a4c0-b0d7594ad568"
      },
      "outputs": [
        {
          "data": {
            "text/html": [
              "<div>\n",
              "<style scoped>\n",
              "    .dataframe tbody tr th:only-of-type {\n",
              "        vertical-align: middle;\n",
              "    }\n",
              "\n",
              "    .dataframe tbody tr th {\n",
              "        vertical-align: top;\n",
              "    }\n",
              "\n",
              "    .dataframe thead th {\n",
              "        text-align: right;\n",
              "    }\n",
              "</style>\n",
              "<table border=\"1\" class=\"dataframe\">\n",
              "  <thead>\n",
              "    <tr style=\"text-align: right;\">\n",
              "      <th></th>\n",
              "      <th>Movie_Id</th>\n",
              "      <th>User_Id</th>\n",
              "      <th>User_Rating</th>\n",
              "      <th>Date</th>\n",
              "      <th>Year</th>\n",
              "      <th>Movie_Title</th>\n",
              "    </tr>\n",
              "  </thead>\n",
              "  <tbody>\n",
              "    <tr>\n",
              "      <th>0</th>\n",
              "      <td>1144</td>\n",
              "      <td>555812</td>\n",
              "      <td>5</td>\n",
              "      <td>2000-01-09</td>\n",
              "      <td>1991</td>\n",
              "      <td>Fried Green Tomatoes</td>\n",
              "    </tr>\n",
              "    <tr>\n",
              "      <th>1</th>\n",
              "      <td>1144</td>\n",
              "      <td>295485</td>\n",
              "      <td>4</td>\n",
              "      <td>2000-01-09</td>\n",
              "      <td>1991</td>\n",
              "      <td>Fried Green Tomatoes</td>\n",
              "    </tr>\n",
              "    <tr>\n",
              "      <th>2</th>\n",
              "      <td>1144</td>\n",
              "      <td>2292741</td>\n",
              "      <td>3</td>\n",
              "      <td>2000-01-09</td>\n",
              "      <td>1991</td>\n",
              "      <td>Fried Green Tomatoes</td>\n",
              "    </tr>\n",
              "    <tr>\n",
              "      <th>3</th>\n",
              "      <td>1144</td>\n",
              "      <td>2480395</td>\n",
              "      <td>5</td>\n",
              "      <td>2000-01-09</td>\n",
              "      <td>1991</td>\n",
              "      <td>Fried Green Tomatoes</td>\n",
              "    </tr>\n",
              "    <tr>\n",
              "      <th>4</th>\n",
              "      <td>1144</td>\n",
              "      <td>1566905</td>\n",
              "      <td>3</td>\n",
              "      <td>2000-01-09</td>\n",
              "      <td>1991</td>\n",
              "      <td>Fried Green Tomatoes</td>\n",
              "    </tr>\n",
              "  </tbody>\n",
              "</table>\n",
              "</div>"
            ],
            "text/plain": [
              "   Movie_Id  User_Id  User_Rating       Date  Year           Movie_Title\n",
              "0      1144   555812            5 2000-01-09  1991  Fried Green Tomatoes\n",
              "1      1144   295485            4 2000-01-09  1991  Fried Green Tomatoes\n",
              "2      1144  2292741            3 2000-01-09  1991  Fried Green Tomatoes\n",
              "3      1144  2480395            5 2000-01-09  1991  Fried Green Tomatoes\n",
              "4      1144  1566905            3 2000-01-09  1991  Fried Green Tomatoes"
            ]
          },
          "execution_count": 17,
          "metadata": {},
          "output_type": "execute_result"
        }
      ],
      "source": [
        "merged_movie_data = data.merge(movie_data, on='Movie_Id', how='left')\n",
        "\n",
        "merged_movie_data.head()"
      ]
    },
    {
      "cell_type": "code",
      "execution_count": null,
      "metadata": {
        "colab": {
          "base_uri": "https://localhost:8080/"
        },
        "id": "IhxmnL4vEYGQ",
        "outputId": "00b99923-0a09-4728-f924-3716fbb49e61"
      },
      "outputs": [
        {
          "data": {
            "text/plain": [
              "Movie_Id         1962\n",
              "User_Id        447845\n",
              "User_Rating         5\n",
              "Date             2179\n",
              "Year               82\n",
              "Movie_Title      1955\n",
              "dtype: int64"
            ]
          },
          "execution_count": 18,
          "metadata": {},
          "output_type": "execute_result"
        }
      ],
      "source": [
        "merged_movie_data.nunique()"
      ]
    },
    {
      "cell_type": "markdown",
      "metadata": {
        "id": "FG7h0pcREYGQ"
      },
      "source": [
        "As we can see there are 447845 users and 1962 Movie_Ids but 1955 Movie_titles. So let's see if there is any null values."
      ]
    },
    {
      "cell_type": "code",
      "execution_count": null,
      "metadata": {
        "colab": {
          "base_uri": "https://localhost:8080/"
        },
        "id": "LuDGKJECEYGQ",
        "outputId": "1878f7bf-80df-4d12-ff29-d1aa4eba882d"
      },
      "outputs": [
        {
          "data": {
            "text/plain": [
              "Movie_Id       0.0\n",
              "User_Id        0.0\n",
              "User_Rating    0.0\n",
              "Date           0.0\n",
              "Year           0.0\n",
              "Movie_Title    0.0\n",
              "dtype: float64"
            ]
          },
          "execution_count": 19,
          "metadata": {},
          "output_type": "execute_result"
        }
      ],
      "source": [
        "merged_movie_data.isnull().mean()"
      ]
    },
    {
      "cell_type": "markdown",
      "metadata": {
        "id": "YW3UUmc_EYGQ"
      },
      "source": [
        "There is some null value in the 'Year' column but there are no null values in 'Movie_Id' and Movie_Title' column thus there may be same Movie_Id for more than one Movie_Title. Let's check it."
      ]
    },
    {
      "cell_type": "code",
      "execution_count": null,
      "metadata": {
        "colab": {
          "base_uri": "https://localhost:8080/"
        },
        "id": "Wo4LnpW2EYGQ",
        "outputId": "19aa1c52-0367-43a0-a724-c76515ac28a8"
      },
      "outputs": [
        {
          "name": "stdout",
          "output_type": "stream",
          "text": [
            "Movie Titles with Multiple Movie Ids:\n",
            "Movie_Title\n",
            "Crash Dive                            2\n",
            "Dr. Quinn                             2\n",
            "Hamlet                                2\n",
            "Jack                                  2\n",
            "Journey to the Center of the Earth    2\n",
            "The Alamo                             2\n",
            "The In-Laws                           2\n",
            "Name: Movie_Id, dtype: int32\n"
          ]
        },
        {
          "data": {
            "text/plain": [
              "10000000"
            ]
          },
          "execution_count": 20,
          "metadata": {},
          "output_type": "execute_result"
        }
      ],
      "source": [
        "# Group by Movie_Title and check the number of unique Movie_Id values\n",
        "title_id_counts = merged_movie_data.groupby('Movie_Title')['Movie_Id'].nunique()\n",
        "\n",
        "# Filter titles with more than one unique Movie_Id\n",
        "titles_with_multiple_ids = title_id_counts[title_id_counts > 1]\n",
        "\n",
        "# Print the titles and the associated counts\n",
        "print(\"Movie Titles with Multiple Movie Ids:\")\n",
        "print(titles_with_multiple_ids)\n",
        "len(merged_movie_data)"
      ]
    },
    {
      "cell_type": "code",
      "execution_count": null,
      "metadata": {
        "colab": {
          "base_uri": "https://localhost:8080/"
        },
        "id": "O1BJdbwMQ73n",
        "outputId": "2e589473-a064-41ce-ffd9-2553fd2c5fb1"
      },
      "outputs": [
        {
          "name": "stdout",
          "output_type": "stream",
          "text": [
            "the number of movies with non-unique Movie_Ids are:  7\n",
            "Movie Title: Crash Dive, Movie Ids: [ 63 379]\n",
            "Movie Title: Dr. Quinn, Movie Ids: [ 350 1015]\n",
            "Movie Title: Hamlet, Movie Ids: [1505  903]\n",
            "Movie Title: Jack, Movie Ids: [305 172]\n",
            "Movie Title: Journey to the Center of the Earth, Movie Ids: [1260  486]\n",
            "Movie Title: The Alamo, Movie Ids: [ 535 1918]\n",
            "Movie Title: The In-Laws, Movie Ids: [ 569 1645]\n"
          ]
        }
      ],
      "source": [
        "# Convert cuDF DataFrame to pandas DataFrame\n",
        "merged_movie_data_pandas = merged_movie_data.to_pandas()\n",
        "\n",
        "# Group by Movie_Title and get the list of unique Movie_Id values\n",
        "title_id_lists = merged_movie_data_pandas.groupby('Movie_Title')['Movie_Id'].unique()\n",
        "\n",
        "# Filter titles with more than one unique Movie_Id\n",
        "titles_with_multiple_ids = title_id_lists[title_id_lists.apply(len) > 1]\n",
        "\n",
        "print(\"the number of movies with non-unique Movie_Ids are: \", len(titles_with_multiple_ids))\n",
        "\n",
        "# Print the titles and the corresponding Movie_Id lists\n",
        "for title, ids in titles_with_multiple_ids.items():\n",
        "    print(f\"Movie Title: {title}, Movie Ids: {ids}\")\n"
      ]
    },
    {
      "cell_type": "markdown",
      "metadata": {
        "id": "eiGsMUGkEYGR"
      },
      "source": [
        "So as we can see there are 7 movies which has two or more Movie_Ids, so it would be better to retain only one of their Movie_Id by replacing with the other (preferably the first one)."
      ]
    },
    {
      "cell_type": "code",
      "execution_count": null,
      "metadata": {
        "colab": {
          "base_uri": "https://localhost:8080/",
          "height": 206
        },
        "id": "F5DVhCSfEYGR",
        "outputId": "9dd603eb-d44b-45da-f56a-11cc992acb42"
      },
      "outputs": [
        {
          "data": {
            "text/html": [
              "\n",
              "  <div id=\"df-1e3611f2-47ba-4362-b868-0ac27bbe56ec\" class=\"colab-df-container\">\n",
              "    <div>\n",
              "<style scoped>\n",
              "    .dataframe tbody tr th:only-of-type {\n",
              "        vertical-align: middle;\n",
              "    }\n",
              "\n",
              "    .dataframe tbody tr th {\n",
              "        vertical-align: top;\n",
              "    }\n",
              "\n",
              "    .dataframe thead th {\n",
              "        text-align: right;\n",
              "    }\n",
              "</style>\n",
              "<table border=\"1\" class=\"dataframe\">\n",
              "  <thead>\n",
              "    <tr style=\"text-align: right;\">\n",
              "      <th></th>\n",
              "      <th>Movie_Id</th>\n",
              "      <th>User_Id</th>\n",
              "      <th>User_Rating</th>\n",
              "      <th>Date</th>\n",
              "      <th>Year</th>\n",
              "      <th>Movie_Title</th>\n",
              "    </tr>\n",
              "  </thead>\n",
              "  <tbody>\n",
              "    <tr>\n",
              "      <th>0</th>\n",
              "      <td>1144</td>\n",
              "      <td>555812</td>\n",
              "      <td>5</td>\n",
              "      <td>2000-01-09</td>\n",
              "      <td>1991</td>\n",
              "      <td>Fried Green Tomatoes</td>\n",
              "    </tr>\n",
              "    <tr>\n",
              "      <th>1</th>\n",
              "      <td>1144</td>\n",
              "      <td>295485</td>\n",
              "      <td>4</td>\n",
              "      <td>2000-01-09</td>\n",
              "      <td>1991</td>\n",
              "      <td>Fried Green Tomatoes</td>\n",
              "    </tr>\n",
              "    <tr>\n",
              "      <th>2</th>\n",
              "      <td>1144</td>\n",
              "      <td>2292741</td>\n",
              "      <td>3</td>\n",
              "      <td>2000-01-09</td>\n",
              "      <td>1991</td>\n",
              "      <td>Fried Green Tomatoes</td>\n",
              "    </tr>\n",
              "    <tr>\n",
              "      <th>3</th>\n",
              "      <td>1144</td>\n",
              "      <td>2480395</td>\n",
              "      <td>5</td>\n",
              "      <td>2000-01-09</td>\n",
              "      <td>1991</td>\n",
              "      <td>Fried Green Tomatoes</td>\n",
              "    </tr>\n",
              "    <tr>\n",
              "      <th>4</th>\n",
              "      <td>1144</td>\n",
              "      <td>1566905</td>\n",
              "      <td>3</td>\n",
              "      <td>2000-01-09</td>\n",
              "      <td>1991</td>\n",
              "      <td>Fried Green Tomatoes</td>\n",
              "    </tr>\n",
              "  </tbody>\n",
              "</table>\n",
              "</div>\n",
              "    <div class=\"colab-df-buttons\">\n",
              "\n",
              "  <div class=\"colab-df-container\">\n",
              "    <button class=\"colab-df-convert\" onclick=\"convertToInteractive('df-1e3611f2-47ba-4362-b868-0ac27bbe56ec')\"\n",
              "            title=\"Convert this dataframe to an interactive table.\"\n",
              "            style=\"display:none;\">\n",
              "\n",
              "  <svg xmlns=\"http://www.w3.org/2000/svg\" height=\"24px\" viewBox=\"0 -960 960 960\">\n",
              "    <path d=\"M120-120v-720h720v720H120Zm60-500h600v-160H180v160Zm220 220h160v-160H400v160Zm0 220h160v-160H400v160ZM180-400h160v-160H180v160Zm440 0h160v-160H620v160ZM180-180h160v-160H180v160Zm440 0h160v-160H620v160Z\"/>\n",
              "  </svg>\n",
              "    </button>\n",
              "\n",
              "  <style>\n",
              "    .colab-df-container {\n",
              "      display:flex;\n",
              "      gap: 12px;\n",
              "    }\n",
              "\n",
              "    .colab-df-convert {\n",
              "      background-color: #E8F0FE;\n",
              "      border: none;\n",
              "      border-radius: 50%;\n",
              "      cursor: pointer;\n",
              "      display: none;\n",
              "      fill: #1967D2;\n",
              "      height: 32px;\n",
              "      padding: 0 0 0 0;\n",
              "      width: 32px;\n",
              "    }\n",
              "\n",
              "    .colab-df-convert:hover {\n",
              "      background-color: #E2EBFA;\n",
              "      box-shadow: 0px 1px 2px rgba(60, 64, 67, 0.3), 0px 1px 3px 1px rgba(60, 64, 67, 0.15);\n",
              "      fill: #174EA6;\n",
              "    }\n",
              "\n",
              "    .colab-df-buttons div {\n",
              "      margin-bottom: 4px;\n",
              "    }\n",
              "\n",
              "    [theme=dark] .colab-df-convert {\n",
              "      background-color: #3B4455;\n",
              "      fill: #D2E3FC;\n",
              "    }\n",
              "\n",
              "    [theme=dark] .colab-df-convert:hover {\n",
              "      background-color: #434B5C;\n",
              "      box-shadow: 0px 1px 3px 1px rgba(0, 0, 0, 0.15);\n",
              "      filter: drop-shadow(0px 1px 2px rgba(0, 0, 0, 0.3));\n",
              "      fill: #FFFFFF;\n",
              "    }\n",
              "  </style>\n",
              "\n",
              "    <script>\n",
              "      const buttonEl =\n",
              "        document.querySelector('#df-1e3611f2-47ba-4362-b868-0ac27bbe56ec button.colab-df-convert');\n",
              "      buttonEl.style.display =\n",
              "        google.colab.kernel.accessAllowed ? 'block' : 'none';\n",
              "\n",
              "      async function convertToInteractive(key) {\n",
              "        const element = document.querySelector('#df-1e3611f2-47ba-4362-b868-0ac27bbe56ec');\n",
              "        const dataTable =\n",
              "          await google.colab.kernel.invokeFunction('convertToInteractive',\n",
              "                                                    [key], {});\n",
              "        if (!dataTable) return;\n",
              "\n",
              "        const docLinkHtml = 'Like what you see? Visit the ' +\n",
              "          '<a target=\"_blank\" href=https://colab.research.google.com/notebooks/data_table.ipynb>data table notebook</a>'\n",
              "          + ' to learn more about interactive tables.';\n",
              "        element.innerHTML = '';\n",
              "        dataTable['output_type'] = 'display_data';\n",
              "        await google.colab.output.renderOutput(dataTable, element);\n",
              "        const docLink = document.createElement('div');\n",
              "        docLink.innerHTML = docLinkHtml;\n",
              "        element.appendChild(docLink);\n",
              "      }\n",
              "    </script>\n",
              "  </div>\n",
              "\n",
              "\n",
              "<div id=\"df-a7be4c13-2c67-4dbd-be5b-5e92655602f8\">\n",
              "  <button class=\"colab-df-quickchart\" onclick=\"quickchart('df-a7be4c13-2c67-4dbd-be5b-5e92655602f8')\"\n",
              "            title=\"Suggest charts.\"\n",
              "            style=\"display:none;\">\n",
              "\n",
              "<svg xmlns=\"http://www.w3.org/2000/svg\" height=\"24px\"viewBox=\"0 0 24 24\"\n",
              "     width=\"24px\">\n",
              "    <g>\n",
              "        <path d=\"M19 3H5c-1.1 0-2 .9-2 2v14c0 1.1.9 2 2 2h14c1.1 0 2-.9 2-2V5c0-1.1-.9-2-2-2zM9 17H7v-7h2v7zm4 0h-2V7h2v10zm4 0h-2v-4h2v4z\"/>\n",
              "    </g>\n",
              "</svg>\n",
              "  </button>\n",
              "\n",
              "<style>\n",
              "  .colab-df-quickchart {\n",
              "    background-color: #E8F0FE;\n",
              "    border: none;\n",
              "    border-radius: 50%;\n",
              "    cursor: pointer;\n",
              "    display: none;\n",
              "    fill: #1967D2;\n",
              "    height: 32px;\n",
              "    padding: 0 0 0 0;\n",
              "    width: 32px;\n",
              "  }\n",
              "\n",
              "  .colab-df-quickchart:hover {\n",
              "    background-color: #E2EBFA;\n",
              "    box-shadow: 0px 1px 2px rgba(60, 64, 67, 0.3), 0px 1px 3px 1px rgba(60, 64, 67, 0.15);\n",
              "    fill: #174EA6;\n",
              "  }\n",
              "\n",
              "  [theme=dark] .colab-df-quickchart {\n",
              "    background-color: #3B4455;\n",
              "    fill: #D2E3FC;\n",
              "  }\n",
              "\n",
              "  [theme=dark] .colab-df-quickchart:hover {\n",
              "    background-color: #434B5C;\n",
              "    box-shadow: 0px 1px 3px 1px rgba(0, 0, 0, 0.15);\n",
              "    filter: drop-shadow(0px 1px 2px rgba(0, 0, 0, 0.3));\n",
              "    fill: #FFFFFF;\n",
              "  }\n",
              "</style>\n",
              "\n",
              "  <script>\n",
              "    async function quickchart(key) {\n",
              "      const charts = await google.colab.kernel.invokeFunction(\n",
              "          'suggestCharts', [key], {});\n",
              "    }\n",
              "    (() => {\n",
              "      let quickchartButtonEl =\n",
              "        document.querySelector('#df-a7be4c13-2c67-4dbd-be5b-5e92655602f8 button');\n",
              "      quickchartButtonEl.style.display =\n",
              "        google.colab.kernel.accessAllowed ? 'block' : 'none';\n",
              "    })();\n",
              "  </script>\n",
              "</div>\n",
              "    </div>\n",
              "  </div>\n"
            ],
            "text/plain": [
              "   Movie_Id  User_Id  User_Rating       Date  Year           Movie_Title\n",
              "0      1144   555812            5 2000-01-09  1991  Fried Green Tomatoes\n",
              "1      1144   295485            4 2000-01-09  1991  Fried Green Tomatoes\n",
              "2      1144  2292741            3 2000-01-09  1991  Fried Green Tomatoes\n",
              "3      1144  2480395            5 2000-01-09  1991  Fried Green Tomatoes\n",
              "4      1144  1566905            3 2000-01-09  1991  Fried Green Tomatoes"
            ]
          },
          "execution_count": 22,
          "metadata": {},
          "output_type": "execute_result"
        }
      ],
      "source": [
        "# Mapping of Movie_Title to the corresponding first Movie_Id\n",
        "first_ids_mapping = merged_movie_data_pandas.drop_duplicates(subset=['Movie_Title']).set_index('Movie_Title')['Movie_Id']\n",
        "\n",
        "# Update Movie_Id values for duplicates\n",
        "merged_movie_data_pandas['Movie_Id'] = merged_movie_data_pandas['Movie_Title'].map(first_ids_mapping)\n",
        "\n",
        "merged_movie_data_pandas.head()"
      ]
    },
    {
      "cell_type": "code",
      "execution_count": null,
      "metadata": {
        "colab": {
          "base_uri": "https://localhost:8080/"
        },
        "id": "HqeL1lI-Tdzl",
        "outputId": "d6513e51-5cf9-4501-969c-115a859879a9"
      },
      "outputs": [
        {
          "data": {
            "text/plain": [
              "Movie_Id         1955\n",
              "User_Id        447845\n",
              "User_Rating         5\n",
              "Date             2179\n",
              "Year               82\n",
              "Movie_Title      1955\n",
              "dtype: int64"
            ]
          },
          "execution_count": 23,
          "metadata": {},
          "output_type": "execute_result"
        }
      ],
      "source": [
        "merged_movie_data_pandas.nunique()"
      ]
    },
    {
      "cell_type": "markdown",
      "metadata": {
        "id": "hVC_ix5ZEYGR"
      },
      "source": [
        "Now the number of unique Movie_Id and Movie_Title do match"
      ]
    },
    {
      "cell_type": "code",
      "execution_count": null,
      "metadata": {
        "colab": {
          "base_uri": "https://localhost:8080/"
        },
        "id": "zhO8KkBQEYGS",
        "outputId": "7dcf0677-0f94-43ad-f72b-e2ea76bab35a"
      },
      "outputs": [
        {
          "data": {
            "text/plain": [
              "Movie_Id       0.0\n",
              "User_Id        0.0\n",
              "User_Rating    0.0\n",
              "Date           0.0\n",
              "Year           0.0\n",
              "Movie_Title    0.0\n",
              "dtype: float64"
            ]
          },
          "execution_count": 24,
          "metadata": {},
          "output_type": "execute_result"
        }
      ],
      "source": [
        "merged_movie_data_pandas.isnull().mean()"
      ]
    },
    {
      "cell_type": "code",
      "execution_count": null,
      "metadata": {
        "colab": {
          "base_uri": "https://localhost:8080/",
          "height": 206
        },
        "id": "gTkvJ9u5EYGS",
        "outputId": "04e4ff2f-83cb-4ada-c8e4-659e269b07a9"
      },
      "outputs": [
        {
          "data": {
            "text/html": [
              "\n",
              "  <div id=\"df-4ba617ef-05fd-435a-9337-30e31eb5bd22\" class=\"colab-df-container\">\n",
              "    <div>\n",
              "<style scoped>\n",
              "    .dataframe tbody tr th:only-of-type {\n",
              "        vertical-align: middle;\n",
              "    }\n",
              "\n",
              "    .dataframe tbody tr th {\n",
              "        vertical-align: top;\n",
              "    }\n",
              "\n",
              "    .dataframe thead th {\n",
              "        text-align: right;\n",
              "    }\n",
              "</style>\n",
              "<table border=\"1\" class=\"dataframe\">\n",
              "  <thead>\n",
              "    <tr style=\"text-align: right;\">\n",
              "      <th></th>\n",
              "      <th>Movie_Id</th>\n",
              "      <th>User_Id</th>\n",
              "      <th>User_Rating</th>\n",
              "      <th>Date</th>\n",
              "      <th>Year</th>\n",
              "      <th>Movie_Title</th>\n",
              "    </tr>\n",
              "  </thead>\n",
              "  <tbody>\n",
              "    <tr>\n",
              "      <th>0</th>\n",
              "      <td>1144</td>\n",
              "      <td>555812</td>\n",
              "      <td>5</td>\n",
              "      <td>2000-01-09</td>\n",
              "      <td>1991</td>\n",
              "      <td>Fried Green Tomatoes</td>\n",
              "    </tr>\n",
              "    <tr>\n",
              "      <th>1</th>\n",
              "      <td>1144</td>\n",
              "      <td>295485</td>\n",
              "      <td>4</td>\n",
              "      <td>2000-01-09</td>\n",
              "      <td>1991</td>\n",
              "      <td>Fried Green Tomatoes</td>\n",
              "    </tr>\n",
              "    <tr>\n",
              "      <th>2</th>\n",
              "      <td>1144</td>\n",
              "      <td>2292741</td>\n",
              "      <td>3</td>\n",
              "      <td>2000-01-09</td>\n",
              "      <td>1991</td>\n",
              "      <td>Fried Green Tomatoes</td>\n",
              "    </tr>\n",
              "    <tr>\n",
              "      <th>3</th>\n",
              "      <td>1144</td>\n",
              "      <td>2480395</td>\n",
              "      <td>5</td>\n",
              "      <td>2000-01-09</td>\n",
              "      <td>1991</td>\n",
              "      <td>Fried Green Tomatoes</td>\n",
              "    </tr>\n",
              "    <tr>\n",
              "      <th>4</th>\n",
              "      <td>1144</td>\n",
              "      <td>1566905</td>\n",
              "      <td>3</td>\n",
              "      <td>2000-01-09</td>\n",
              "      <td>1991</td>\n",
              "      <td>Fried Green Tomatoes</td>\n",
              "    </tr>\n",
              "  </tbody>\n",
              "</table>\n",
              "</div>\n",
              "    <div class=\"colab-df-buttons\">\n",
              "\n",
              "  <div class=\"colab-df-container\">\n",
              "    <button class=\"colab-df-convert\" onclick=\"convertToInteractive('df-4ba617ef-05fd-435a-9337-30e31eb5bd22')\"\n",
              "            title=\"Convert this dataframe to an interactive table.\"\n",
              "            style=\"display:none;\">\n",
              "\n",
              "  <svg xmlns=\"http://www.w3.org/2000/svg\" height=\"24px\" viewBox=\"0 -960 960 960\">\n",
              "    <path d=\"M120-120v-720h720v720H120Zm60-500h600v-160H180v160Zm220 220h160v-160H400v160Zm0 220h160v-160H400v160ZM180-400h160v-160H180v160Zm440 0h160v-160H620v160ZM180-180h160v-160H180v160Zm440 0h160v-160H620v160Z\"/>\n",
              "  </svg>\n",
              "    </button>\n",
              "\n",
              "  <style>\n",
              "    .colab-df-container {\n",
              "      display:flex;\n",
              "      gap: 12px;\n",
              "    }\n",
              "\n",
              "    .colab-df-convert {\n",
              "      background-color: #E8F0FE;\n",
              "      border: none;\n",
              "      border-radius: 50%;\n",
              "      cursor: pointer;\n",
              "      display: none;\n",
              "      fill: #1967D2;\n",
              "      height: 32px;\n",
              "      padding: 0 0 0 0;\n",
              "      width: 32px;\n",
              "    }\n",
              "\n",
              "    .colab-df-convert:hover {\n",
              "      background-color: #E2EBFA;\n",
              "      box-shadow: 0px 1px 2px rgba(60, 64, 67, 0.3), 0px 1px 3px 1px rgba(60, 64, 67, 0.15);\n",
              "      fill: #174EA6;\n",
              "    }\n",
              "\n",
              "    .colab-df-buttons div {\n",
              "      margin-bottom: 4px;\n",
              "    }\n",
              "\n",
              "    [theme=dark] .colab-df-convert {\n",
              "      background-color: #3B4455;\n",
              "      fill: #D2E3FC;\n",
              "    }\n",
              "\n",
              "    [theme=dark] .colab-df-convert:hover {\n",
              "      background-color: #434B5C;\n",
              "      box-shadow: 0px 1px 3px 1px rgba(0, 0, 0, 0.15);\n",
              "      filter: drop-shadow(0px 1px 2px rgba(0, 0, 0, 0.3));\n",
              "      fill: #FFFFFF;\n",
              "    }\n",
              "  </style>\n",
              "\n",
              "    <script>\n",
              "      const buttonEl =\n",
              "        document.querySelector('#df-4ba617ef-05fd-435a-9337-30e31eb5bd22 button.colab-df-convert');\n",
              "      buttonEl.style.display =\n",
              "        google.colab.kernel.accessAllowed ? 'block' : 'none';\n",
              "\n",
              "      async function convertToInteractive(key) {\n",
              "        const element = document.querySelector('#df-4ba617ef-05fd-435a-9337-30e31eb5bd22');\n",
              "        const dataTable =\n",
              "          await google.colab.kernel.invokeFunction('convertToInteractive',\n",
              "                                                    [key], {});\n",
              "        if (!dataTable) return;\n",
              "\n",
              "        const docLinkHtml = 'Like what you see? Visit the ' +\n",
              "          '<a target=\"_blank\" href=https://colab.research.google.com/notebooks/data_table.ipynb>data table notebook</a>'\n",
              "          + ' to learn more about interactive tables.';\n",
              "        element.innerHTML = '';\n",
              "        dataTable['output_type'] = 'display_data';\n",
              "        await google.colab.output.renderOutput(dataTable, element);\n",
              "        const docLink = document.createElement('div');\n",
              "        docLink.innerHTML = docLinkHtml;\n",
              "        element.appendChild(docLink);\n",
              "      }\n",
              "    </script>\n",
              "  </div>\n",
              "\n",
              "\n",
              "<div id=\"df-9be106f6-9ed8-4a8f-ad43-a1698453babf\">\n",
              "  <button class=\"colab-df-quickchart\" onclick=\"quickchart('df-9be106f6-9ed8-4a8f-ad43-a1698453babf')\"\n",
              "            title=\"Suggest charts.\"\n",
              "            style=\"display:none;\">\n",
              "\n",
              "<svg xmlns=\"http://www.w3.org/2000/svg\" height=\"24px\"viewBox=\"0 0 24 24\"\n",
              "     width=\"24px\">\n",
              "    <g>\n",
              "        <path d=\"M19 3H5c-1.1 0-2 .9-2 2v14c0 1.1.9 2 2 2h14c1.1 0 2-.9 2-2V5c0-1.1-.9-2-2-2zM9 17H7v-7h2v7zm4 0h-2V7h2v10zm4 0h-2v-4h2v4z\"/>\n",
              "    </g>\n",
              "</svg>\n",
              "  </button>\n",
              "\n",
              "<style>\n",
              "  .colab-df-quickchart {\n",
              "    background-color: #E8F0FE;\n",
              "    border: none;\n",
              "    border-radius: 50%;\n",
              "    cursor: pointer;\n",
              "    display: none;\n",
              "    fill: #1967D2;\n",
              "    height: 32px;\n",
              "    padding: 0 0 0 0;\n",
              "    width: 32px;\n",
              "  }\n",
              "\n",
              "  .colab-df-quickchart:hover {\n",
              "    background-color: #E2EBFA;\n",
              "    box-shadow: 0px 1px 2px rgba(60, 64, 67, 0.3), 0px 1px 3px 1px rgba(60, 64, 67, 0.15);\n",
              "    fill: #174EA6;\n",
              "  }\n",
              "\n",
              "  [theme=dark] .colab-df-quickchart {\n",
              "    background-color: #3B4455;\n",
              "    fill: #D2E3FC;\n",
              "  }\n",
              "\n",
              "  [theme=dark] .colab-df-quickchart:hover {\n",
              "    background-color: #434B5C;\n",
              "    box-shadow: 0px 1px 3px 1px rgba(0, 0, 0, 0.15);\n",
              "    filter: drop-shadow(0px 1px 2px rgba(0, 0, 0, 0.3));\n",
              "    fill: #FFFFFF;\n",
              "  }\n",
              "</style>\n",
              "\n",
              "  <script>\n",
              "    async function quickchart(key) {\n",
              "      const charts = await google.colab.kernel.invokeFunction(\n",
              "          'suggestCharts', [key], {});\n",
              "    }\n",
              "    (() => {\n",
              "      let quickchartButtonEl =\n",
              "        document.querySelector('#df-9be106f6-9ed8-4a8f-ad43-a1698453babf button');\n",
              "      quickchartButtonEl.style.display =\n",
              "        google.colab.kernel.accessAllowed ? 'block' : 'none';\n",
              "    })();\n",
              "  </script>\n",
              "</div>\n",
              "    </div>\n",
              "  </div>\n"
            ],
            "text/plain": [
              "   Movie_Id  User_Id  User_Rating       Date  Year           Movie_Title\n",
              "0      1144   555812            5 2000-01-09  1991  Fried Green Tomatoes\n",
              "1      1144   295485            4 2000-01-09  1991  Fried Green Tomatoes\n",
              "2      1144  2292741            3 2000-01-09  1991  Fried Green Tomatoes\n",
              "3      1144  2480395            5 2000-01-09  1991  Fried Green Tomatoes\n",
              "4      1144  1566905            3 2000-01-09  1991  Fried Green Tomatoes"
            ]
          },
          "execution_count": 25,
          "metadata": {},
          "output_type": "execute_result"
        }
      ],
      "source": [
        "deduplicated_data = merged_movie_data_pandas.drop_duplicates()\n",
        "\n",
        "deduplicated_data.head()"
      ]
    },
    {
      "cell_type": "code",
      "execution_count": null,
      "metadata": {
        "colab": {
          "base_uri": "https://localhost:8080/"
        },
        "id": "4qJ1HUsIEYGS",
        "outputId": "b64da8e8-e396-4a73-8c7b-c2b469bfd69c"
      },
      "outputs": [
        {
          "name": "stdout",
          "output_type": "stream",
          "text": [
            "Number of dulicate rows deleted= 0\n"
          ]
        }
      ],
      "source": [
        "duplicate_rows_deleted= merged_movie_data_pandas.shape[0]- deduplicated_data.shape[0]\n",
        "print(\"Number of dulicate rows deleted=\", duplicate_rows_deleted)"
      ]
    },
    {
      "cell_type": "code",
      "execution_count": null,
      "metadata": {
        "colab": {
          "base_uri": "https://localhost:8080/",
          "height": 206
        },
        "id": "ZullV1UREYGS",
        "outputId": "e6e88649-4eb6-4bf2-8b27-c20b1f596618"
      },
      "outputs": [
        {
          "data": {
            "text/html": [
              "\n",
              "  <div id=\"df-232dbde3-b2d4-4dcf-82c5-d62a2c631b65\" class=\"colab-df-container\">\n",
              "    <div>\n",
              "<style scoped>\n",
              "    .dataframe tbody tr th:only-of-type {\n",
              "        vertical-align: middle;\n",
              "    }\n",
              "\n",
              "    .dataframe tbody tr th {\n",
              "        vertical-align: top;\n",
              "    }\n",
              "\n",
              "    .dataframe thead th {\n",
              "        text-align: right;\n",
              "    }\n",
              "</style>\n",
              "<table border=\"1\" class=\"dataframe\">\n",
              "  <thead>\n",
              "    <tr style=\"text-align: right;\">\n",
              "      <th></th>\n",
              "      <th>Movie_Id</th>\n",
              "      <th>User_Id</th>\n",
              "      <th>User_Rating</th>\n",
              "      <th>Date</th>\n",
              "      <th>Year</th>\n",
              "      <th>Movie_Title</th>\n",
              "    </tr>\n",
              "  </thead>\n",
              "  <tbody>\n",
              "    <tr>\n",
              "      <th>0</th>\n",
              "      <td>1144</td>\n",
              "      <td>555812</td>\n",
              "      <td>5</td>\n",
              "      <td>2000-01-09</td>\n",
              "      <td>1991</td>\n",
              "      <td>Fried Green Tomatoes</td>\n",
              "    </tr>\n",
              "    <tr>\n",
              "      <th>1</th>\n",
              "      <td>1144</td>\n",
              "      <td>295485</td>\n",
              "      <td>4</td>\n",
              "      <td>2000-01-09</td>\n",
              "      <td>1991</td>\n",
              "      <td>Fried Green Tomatoes</td>\n",
              "    </tr>\n",
              "    <tr>\n",
              "      <th>2</th>\n",
              "      <td>1144</td>\n",
              "      <td>2292741</td>\n",
              "      <td>3</td>\n",
              "      <td>2000-01-09</td>\n",
              "      <td>1991</td>\n",
              "      <td>Fried Green Tomatoes</td>\n",
              "    </tr>\n",
              "    <tr>\n",
              "      <th>3</th>\n",
              "      <td>1144</td>\n",
              "      <td>2480395</td>\n",
              "      <td>5</td>\n",
              "      <td>2000-01-09</td>\n",
              "      <td>1991</td>\n",
              "      <td>Fried Green Tomatoes</td>\n",
              "    </tr>\n",
              "    <tr>\n",
              "      <th>4</th>\n",
              "      <td>1144</td>\n",
              "      <td>1566905</td>\n",
              "      <td>3</td>\n",
              "      <td>2000-01-09</td>\n",
              "      <td>1991</td>\n",
              "      <td>Fried Green Tomatoes</td>\n",
              "    </tr>\n",
              "  </tbody>\n",
              "</table>\n",
              "</div>\n",
              "    <div class=\"colab-df-buttons\">\n",
              "\n",
              "  <div class=\"colab-df-container\">\n",
              "    <button class=\"colab-df-convert\" onclick=\"convertToInteractive('df-232dbde3-b2d4-4dcf-82c5-d62a2c631b65')\"\n",
              "            title=\"Convert this dataframe to an interactive table.\"\n",
              "            style=\"display:none;\">\n",
              "\n",
              "  <svg xmlns=\"http://www.w3.org/2000/svg\" height=\"24px\" viewBox=\"0 -960 960 960\">\n",
              "    <path d=\"M120-120v-720h720v720H120Zm60-500h600v-160H180v160Zm220 220h160v-160H400v160Zm0 220h160v-160H400v160ZM180-400h160v-160H180v160Zm440 0h160v-160H620v160ZM180-180h160v-160H180v160Zm440 0h160v-160H620v160Z\"/>\n",
              "  </svg>\n",
              "    </button>\n",
              "\n",
              "  <style>\n",
              "    .colab-df-container {\n",
              "      display:flex;\n",
              "      gap: 12px;\n",
              "    }\n",
              "\n",
              "    .colab-df-convert {\n",
              "      background-color: #E8F0FE;\n",
              "      border: none;\n",
              "      border-radius: 50%;\n",
              "      cursor: pointer;\n",
              "      display: none;\n",
              "      fill: #1967D2;\n",
              "      height: 32px;\n",
              "      padding: 0 0 0 0;\n",
              "      width: 32px;\n",
              "    }\n",
              "\n",
              "    .colab-df-convert:hover {\n",
              "      background-color: #E2EBFA;\n",
              "      box-shadow: 0px 1px 2px rgba(60, 64, 67, 0.3), 0px 1px 3px 1px rgba(60, 64, 67, 0.15);\n",
              "      fill: #174EA6;\n",
              "    }\n",
              "\n",
              "    .colab-df-buttons div {\n",
              "      margin-bottom: 4px;\n",
              "    }\n",
              "\n",
              "    [theme=dark] .colab-df-convert {\n",
              "      background-color: #3B4455;\n",
              "      fill: #D2E3FC;\n",
              "    }\n",
              "\n",
              "    [theme=dark] .colab-df-convert:hover {\n",
              "      background-color: #434B5C;\n",
              "      box-shadow: 0px 1px 3px 1px rgba(0, 0, 0, 0.15);\n",
              "      filter: drop-shadow(0px 1px 2px rgba(0, 0, 0, 0.3));\n",
              "      fill: #FFFFFF;\n",
              "    }\n",
              "  </style>\n",
              "\n",
              "    <script>\n",
              "      const buttonEl =\n",
              "        document.querySelector('#df-232dbde3-b2d4-4dcf-82c5-d62a2c631b65 button.colab-df-convert');\n",
              "      buttonEl.style.display =\n",
              "        google.colab.kernel.accessAllowed ? 'block' : 'none';\n",
              "\n",
              "      async function convertToInteractive(key) {\n",
              "        const element = document.querySelector('#df-232dbde3-b2d4-4dcf-82c5-d62a2c631b65');\n",
              "        const dataTable =\n",
              "          await google.colab.kernel.invokeFunction('convertToInteractive',\n",
              "                                                    [key], {});\n",
              "        if (!dataTable) return;\n",
              "\n",
              "        const docLinkHtml = 'Like what you see? Visit the ' +\n",
              "          '<a target=\"_blank\" href=https://colab.research.google.com/notebooks/data_table.ipynb>data table notebook</a>'\n",
              "          + ' to learn more about interactive tables.';\n",
              "        element.innerHTML = '';\n",
              "        dataTable['output_type'] = 'display_data';\n",
              "        await google.colab.output.renderOutput(dataTable, element);\n",
              "        const docLink = document.createElement('div');\n",
              "        docLink.innerHTML = docLinkHtml;\n",
              "        element.appendChild(docLink);\n",
              "      }\n",
              "    </script>\n",
              "  </div>\n",
              "\n",
              "\n",
              "<div id=\"df-58a2ff63-b13f-4024-a397-dee2c948189c\">\n",
              "  <button class=\"colab-df-quickchart\" onclick=\"quickchart('df-58a2ff63-b13f-4024-a397-dee2c948189c')\"\n",
              "            title=\"Suggest charts.\"\n",
              "            style=\"display:none;\">\n",
              "\n",
              "<svg xmlns=\"http://www.w3.org/2000/svg\" height=\"24px\"viewBox=\"0 0 24 24\"\n",
              "     width=\"24px\">\n",
              "    <g>\n",
              "        <path d=\"M19 3H5c-1.1 0-2 .9-2 2v14c0 1.1.9 2 2 2h14c1.1 0 2-.9 2-2V5c0-1.1-.9-2-2-2zM9 17H7v-7h2v7zm4 0h-2V7h2v10zm4 0h-2v-4h2v4z\"/>\n",
              "    </g>\n",
              "</svg>\n",
              "  </button>\n",
              "\n",
              "<style>\n",
              "  .colab-df-quickchart {\n",
              "    background-color: #E8F0FE;\n",
              "    border: none;\n",
              "    border-radius: 50%;\n",
              "    cursor: pointer;\n",
              "    display: none;\n",
              "    fill: #1967D2;\n",
              "    height: 32px;\n",
              "    padding: 0 0 0 0;\n",
              "    width: 32px;\n",
              "  }\n",
              "\n",
              "  .colab-df-quickchart:hover {\n",
              "    background-color: #E2EBFA;\n",
              "    box-shadow: 0px 1px 2px rgba(60, 64, 67, 0.3), 0px 1px 3px 1px rgba(60, 64, 67, 0.15);\n",
              "    fill: #174EA6;\n",
              "  }\n",
              "\n",
              "  [theme=dark] .colab-df-quickchart {\n",
              "    background-color: #3B4455;\n",
              "    fill: #D2E3FC;\n",
              "  }\n",
              "\n",
              "  [theme=dark] .colab-df-quickchart:hover {\n",
              "    background-color: #434B5C;\n",
              "    box-shadow: 0px 1px 3px 1px rgba(0, 0, 0, 0.15);\n",
              "    filter: drop-shadow(0px 1px 2px rgba(0, 0, 0, 0.3));\n",
              "    fill: #FFFFFF;\n",
              "  }\n",
              "</style>\n",
              "\n",
              "  <script>\n",
              "    async function quickchart(key) {\n",
              "      const charts = await google.colab.kernel.invokeFunction(\n",
              "          'suggestCharts', [key], {});\n",
              "    }\n",
              "    (() => {\n",
              "      let quickchartButtonEl =\n",
              "        document.querySelector('#df-58a2ff63-b13f-4024-a397-dee2c948189c button');\n",
              "      quickchartButtonEl.style.display =\n",
              "        google.colab.kernel.accessAllowed ? 'block' : 'none';\n",
              "    })();\n",
              "  </script>\n",
              "</div>\n",
              "    </div>\n",
              "  </div>\n"
            ],
            "text/plain": [
              "   Movie_Id  User_Id  User_Rating       Date  Year           Movie_Title\n",
              "0      1144   555812            5 2000-01-09  1991  Fried Green Tomatoes\n",
              "1      1144   295485            4 2000-01-09  1991  Fried Green Tomatoes\n",
              "2      1144  2292741            3 2000-01-09  1991  Fried Green Tomatoes\n",
              "3      1144  2480395            5 2000-01-09  1991  Fried Green Tomatoes\n",
              "4      1144  1566905            3 2000-01-09  1991  Fried Green Tomatoes"
            ]
          },
          "execution_count": 27,
          "metadata": {},
          "output_type": "execute_result"
        }
      ],
      "source": [
        "merged_movie_data_pandas= deduplicated_data\n",
        "\n",
        "merged_movie_data_pandas.head()"
      ]
    },
    {
      "cell_type": "code",
      "execution_count": null,
      "metadata": {
        "colab": {
          "base_uri": "https://localhost:8080/",
          "height": 206
        },
        "id": "MhAhIZE0ix4y",
        "outputId": "8913a6af-d9b4-4def-8098-af08f50d37a7"
      },
      "outputs": [
        {
          "data": {
            "text/html": [
              "<div>\n",
              "<style scoped>\n",
              "    .dataframe tbody tr th:only-of-type {\n",
              "        vertical-align: middle;\n",
              "    }\n",
              "\n",
              "    .dataframe tbody tr th {\n",
              "        vertical-align: top;\n",
              "    }\n",
              "\n",
              "    .dataframe thead th {\n",
              "        text-align: right;\n",
              "    }\n",
              "</style>\n",
              "<table border=\"1\" class=\"dataframe\">\n",
              "  <thead>\n",
              "    <tr style=\"text-align: right;\">\n",
              "      <th></th>\n",
              "      <th>Movie_Id</th>\n",
              "      <th>User_Id</th>\n",
              "      <th>User_Rating</th>\n",
              "      <th>Date</th>\n",
              "      <th>Year</th>\n",
              "      <th>Movie_Title</th>\n",
              "    </tr>\n",
              "  </thead>\n",
              "  <tbody>\n",
              "    <tr>\n",
              "      <th>0</th>\n",
              "      <td>1144</td>\n",
              "      <td>555812</td>\n",
              "      <td>5</td>\n",
              "      <td>2000-01-09</td>\n",
              "      <td>1991</td>\n",
              "      <td>Fried Green Tomatoes</td>\n",
              "    </tr>\n",
              "    <tr>\n",
              "      <th>1</th>\n",
              "      <td>1144</td>\n",
              "      <td>295485</td>\n",
              "      <td>4</td>\n",
              "      <td>2000-01-09</td>\n",
              "      <td>1991</td>\n",
              "      <td>Fried Green Tomatoes</td>\n",
              "    </tr>\n",
              "    <tr>\n",
              "      <th>2</th>\n",
              "      <td>1144</td>\n",
              "      <td>2292741</td>\n",
              "      <td>3</td>\n",
              "      <td>2000-01-09</td>\n",
              "      <td>1991</td>\n",
              "      <td>Fried Green Tomatoes</td>\n",
              "    </tr>\n",
              "    <tr>\n",
              "      <th>3</th>\n",
              "      <td>1144</td>\n",
              "      <td>2480395</td>\n",
              "      <td>5</td>\n",
              "      <td>2000-01-09</td>\n",
              "      <td>1991</td>\n",
              "      <td>Fried Green Tomatoes</td>\n",
              "    </tr>\n",
              "    <tr>\n",
              "      <th>4</th>\n",
              "      <td>1144</td>\n",
              "      <td>1566905</td>\n",
              "      <td>3</td>\n",
              "      <td>2000-01-09</td>\n",
              "      <td>1991</td>\n",
              "      <td>Fried Green Tomatoes</td>\n",
              "    </tr>\n",
              "  </tbody>\n",
              "</table>\n",
              "</div>"
            ],
            "text/plain": [
              "   Movie_Id  User_Id  User_Rating       Date  Year           Movie_Title\n",
              "0      1144   555812            5 2000-01-09  1991  Fried Green Tomatoes\n",
              "1      1144   295485            4 2000-01-09  1991  Fried Green Tomatoes\n",
              "2      1144  2292741            3 2000-01-09  1991  Fried Green Tomatoes\n",
              "3      1144  2480395            5 2000-01-09  1991  Fried Green Tomatoes\n",
              "4      1144  1566905            3 2000-01-09  1991  Fried Green Tomatoes"
            ]
          },
          "execution_count": 55,
          "metadata": {},
          "output_type": "execute_result"
        }
      ],
      "source": [
        "merged_movie_data= cudf.from_pandas(merged_movie_data_pandas)\n",
        "\n",
        "merged_movie_data.head()"
      ]
    },
    {
      "cell_type": "code",
      "execution_count": null,
      "metadata": {
        "colab": {
          "base_uri": "https://localhost:8080/",
          "height": 206
        },
        "id": "NCc61undzcWd",
        "outputId": "27e5fe86-4874-40f3-e3ab-2b691fb5a363"
      },
      "outputs": [
        {
          "data": {
            "text/html": [
              "<div>\n",
              "<style scoped>\n",
              "    .dataframe tbody tr th:only-of-type {\n",
              "        vertical-align: middle;\n",
              "    }\n",
              "\n",
              "    .dataframe tbody tr th {\n",
              "        vertical-align: top;\n",
              "    }\n",
              "\n",
              "    .dataframe thead th {\n",
              "        text-align: right;\n",
              "    }\n",
              "</style>\n",
              "<table border=\"1\" class=\"dataframe\">\n",
              "  <thead>\n",
              "    <tr style=\"text-align: right;\">\n",
              "      <th></th>\n",
              "      <th>Movie_Id</th>\n",
              "      <th>User_Id</th>\n",
              "      <th>User_Rating</th>\n",
              "      <th>Date</th>\n",
              "      <th>Year</th>\n",
              "      <th>Movie_Title</th>\n",
              "    </tr>\n",
              "  </thead>\n",
              "  <tbody>\n",
              "    <tr>\n",
              "      <th>0</th>\n",
              "      <td>1144</td>\n",
              "      <td>555812</td>\n",
              "      <td>5</td>\n",
              "      <td>2000-01-09</td>\n",
              "      <td>1991</td>\n",
              "      <td>Fried Green Tomatoes</td>\n",
              "    </tr>\n",
              "    <tr>\n",
              "      <th>1</th>\n",
              "      <td>1144</td>\n",
              "      <td>295485</td>\n",
              "      <td>4</td>\n",
              "      <td>2000-01-09</td>\n",
              "      <td>1991</td>\n",
              "      <td>Fried Green Tomatoes</td>\n",
              "    </tr>\n",
              "    <tr>\n",
              "      <th>2</th>\n",
              "      <td>1144</td>\n",
              "      <td>2292741</td>\n",
              "      <td>3</td>\n",
              "      <td>2000-01-09</td>\n",
              "      <td>1991</td>\n",
              "      <td>Fried Green Tomatoes</td>\n",
              "    </tr>\n",
              "    <tr>\n",
              "      <th>3</th>\n",
              "      <td>1144</td>\n",
              "      <td>2480395</td>\n",
              "      <td>5</td>\n",
              "      <td>2000-01-09</td>\n",
              "      <td>1991</td>\n",
              "      <td>Fried Green Tomatoes</td>\n",
              "    </tr>\n",
              "    <tr>\n",
              "      <th>4</th>\n",
              "      <td>1144</td>\n",
              "      <td>1566905</td>\n",
              "      <td>3</td>\n",
              "      <td>2000-01-09</td>\n",
              "      <td>1991</td>\n",
              "      <td>Fried Green Tomatoes</td>\n",
              "    </tr>\n",
              "  </tbody>\n",
              "</table>\n",
              "</div>"
            ],
            "text/plain": [
              "   Movie_Id  User_Id  User_Rating       Date  Year           Movie_Title\n",
              "0      1144   555812            5 2000-01-09  1991  Fried Green Tomatoes\n",
              "1      1144   295485            4 2000-01-09  1991  Fried Green Tomatoes\n",
              "2      1144  2292741            3 2000-01-09  1991  Fried Green Tomatoes\n",
              "3      1144  2480395            5 2000-01-09  1991  Fried Green Tomatoes\n",
              "4      1144  1566905            3 2000-01-09  1991  Fried Green Tomatoes"
            ]
          },
          "execution_count": 56,
          "metadata": {},
          "output_type": "execute_result"
        }
      ],
      "source": [
        "merged_movie_data= merged_movie_data.reset_index(drop=True)\n",
        "\n",
        "merged_movie_data.head()"
      ]
    },
    {
      "cell_type": "markdown",
      "metadata": {
        "id": "EN_b6fR9gBHE"
      },
      "source": [
        "Now we will use cinemagoer library to add some more feature columns like- 'Genre', 'Director', 'Actor' etc. Genre, in merged_movie_data_pandas"
      ]
    },
    {
      "cell_type": "code",
      "execution_count": null,
      "metadata": {
        "colab": {
          "base_uri": "https://localhost:8080/"
        },
        "id": "X3tT7alDi7C1",
        "outputId": "c654fa0c-0bdf-49b2-b00a-cb6e45a16d0b"
      },
      "outputs": [
        {
          "name": "stdout",
          "output_type": "stream",
          "text": [
            "Collecting git+https://github.com/cinemagoer/cinemagoer\n",
            "  Cloning https://github.com/cinemagoer/cinemagoer to /tmp/pip-req-build-j68jnp54\n",
            "  Running command git clone --filter=blob:none --quiet https://github.com/cinemagoer/cinemagoer /tmp/pip-req-build-j68jnp54\n",
            "  Resolved https://github.com/cinemagoer/cinemagoer to commit dc7964e067533fbe7cc1f0b43fb2d09efbdf8328\n",
            "  Preparing metadata (setup.py) ... \u001b[?25l\u001b[?25hdone\n",
            "Requirement already satisfied: SQLAlchemy in /usr/local/lib/python3.10/dist-packages (from cinemagoer==2023.8.13) (2.0.20)\n",
            "Requirement already satisfied: lxml in /usr/local/lib/python3.10/dist-packages (from cinemagoer==2023.8.13) (4.9.3)\n",
            "Requirement already satisfied: typing-extensions>=4.2.0 in /usr/local/lib/python3.10/dist-packages (from SQLAlchemy->cinemagoer==2023.8.13) (4.7.1)\n",
            "Requirement already satisfied: greenlet!=0.4.17 in /usr/local/lib/python3.10/dist-packages (from SQLAlchemy->cinemagoer==2023.8.13) (2.0.2)\n"
          ]
        }
      ],
      "source": [
        "pip install git+https://github.com/cinemagoer/cinemagoer"
      ]
    },
    {
      "cell_type": "code",
      "execution_count": null,
      "metadata": {
        "colab": {
          "base_uri": "https://localhost:8080/"
        },
        "id": "uD-u74u-g1XA",
        "outputId": "e9fb1938-7ed9-48c1-dc8a-4fa9b05b8deb"
      },
      "outputs": [
        {
          "name": "stderr",
          "output_type": "stream",
          "text": [
            "2023-08-24 10:17:36,109 ERROR [imdbpy] /usr/local/lib/python3.10/dist-packages/imdb/__init__.py:844: unknown information set \"cast\"\n",
            "ERROR:imdbpy:unknown information set \"cast\"\n"
          ]
        },
        {
          "name": "stdout",
          "output_type": "stream",
          "text": [
            "Directors:\n",
            "Sidney Lanfield\n",
            "First Three Actors:\n",
            "Richard Greene, Basil Rathbone, Wendy Barrie\n",
            "First Three Genres:\n",
            "Crime, Horror, Mystery\n",
            "Year of Release: 1939\n"
          ]
        }
      ],
      "source": [
        "from imdb import IMDb\n",
        "\n",
        "ia = IMDb()\n",
        "\n",
        "# Searching for the movie\n",
        "movies = ia.search_movie('The Hound of the Baskervilles')\n",
        "\n",
        "# Assuming you want to work with the first search result\n",
        "if movies:\n",
        "    movie = movies[0]\n",
        "\n",
        "    # Fetching the complete information for the movie\n",
        "    ia.update(movie, info=['main', 'cast'])\n",
        "\n",
        "    # Printing the names of the directors of the movie\n",
        "    print('Directors:')\n",
        "    for director in movie['directors']:\n",
        "        print(director['name'])\n",
        "\n",
        "    # Printing the first three actor names separated by commas\n",
        "    print('First Three Actors:')\n",
        "    actor_names = [actor['name'] for actor in movie['cast'][:3]]\n",
        "    print(', '.join(actor_names))\n",
        "\n",
        "    # Printing the first three genres separated by commas\n",
        "    print('First Three Genres:')\n",
        "    genre_names = movie['genres'][:3]\n",
        "    print(', '.join(genre_names))\n",
        "\n",
        "    # Printing the year of release\n",
        "    print('Year of Release:', movie['year'])\n",
        "else:\n",
        "    print('No movie found with the given title.')\n"
      ]
    },
    {
      "cell_type": "code",
      "execution_count": null,
      "metadata": {
        "colab": {
          "base_uri": "https://localhost:8080/"
        },
        "id": "DYx_vtj00chs",
        "outputId": "38e5e6da-3fa7-4f6a-8622-5706187d5e3a"
      },
      "outputs": [
        {
          "name": "stdout",
          "output_type": "stream",
          "text": [
            "Sacred Games\n",
            "Saif Ali Khan\n",
            "Nawazuddin Siddiqui\n",
            "Neeraj Kabi\n"
          ]
        }
      ],
      "source": [
        "# importing the module\n",
        "from imdb import Cinemagoer\n",
        "\n",
        "# creating instance of IMDb\n",
        "ia = Cinemagoer()\n",
        "\n",
        "# id\n",
        "code = \"6077448\"\n",
        "\n",
        "# getting information\n",
        "series = ia.get_movie(code)\n",
        "\n",
        "# getting cast of the series\n",
        "cast = series.data['cast']\n",
        "\n",
        "# printing the object i.e name\n",
        "print(series)\n",
        "\n",
        "# print the cast\n",
        "for i in range(3):\n",
        "\tprint(cast[i])\n"
      ]
    },
    {
      "cell_type": "code",
      "execution_count": null,
      "metadata": {
        "colab": {
          "base_uri": "https://localhost:8080/"
        },
        "id": "TYo1suNsB5zD",
        "outputId": "065d42d1-9e3d-4093-b556-77e6e618ac10"
      },
      "outputs": [
        {
          "name": "stdout",
          "output_type": "stream",
          "text": [
            "<class 'cudf.core.dataframe.DataFrame'>\n",
            "RangeIndex: 10000000 entries, 0 to 9999999\n",
            "Data columns (total 6 columns):\n",
            " #   Column       Dtype\n",
            "---  ------       -----\n",
            " 0   Movie_Id     int32\n",
            " 1   User_Id      int32\n",
            " 2   User_Rating  int32\n",
            " 3   Date         datetime64[ns]\n",
            " 4   Year         int64\n",
            " 5   Movie_Title  object\n",
            "dtypes: datetime64[ns](1), int32(3), int64(1), object(1)\n",
            "memory usage: 470.5+ MB\n"
          ]
        }
      ],
      "source": [
        "merged_movie_data.info()"
      ]
    },
    {
      "cell_type": "code",
      "execution_count": null,
      "metadata": {
        "id": "LdAKqCrfxXpR"
      },
      "outputs": [],
      "source": [
        "import cudf\n",
        "import numpy as np\n",
        "import os\n",
        "\n",
        "# Suppress all error output\n",
        "def suppress_errors(func, *args, **kwargs):\n",
        "    try:\n",
        "        with open(os.devnull, 'w') as null:\n",
        "            sys.stderr = null\n",
        "            result = func(*args, **kwargs)\n",
        "            sys.stderr = sys.__stderr__  # Reset stderr\n",
        "            return result\n",
        "    except:\n",
        "        sys.stderr = sys.__stderr__  # Reset stderr\n",
        "        return None\n",
        "\n",
        "from imdb import IMDb\n",
        "\n",
        "# Define your 'merged_movie_data' cuDF DataFrame here\n",
        "\n",
        "# Convert 'Year' column to int32\n",
        "merged_movie_data['Year'] = merged_movie_data['Year'].astype('int32')\n",
        "\n",
        "# Create a key column to keep track of the original rows\n",
        "merged_movie_data['key'] = cudf.Series(np.arange(len(merged_movie_data), dtype='int32'))\n",
        "\n",
        "# Create a DataFrame to store extracted details\n",
        "details_data = {'Director1': None, 'Director2': None,\n",
        "                'Actor1': None, 'Actor2': None, 'Actor3': None,\n",
        "                'Genre1': None, 'Genre2': None, 'Genre3': None}\n",
        "movie_details = cudf.DataFrame(details_data)\n",
        "\n",
        "# Suppress all error output for the IMDb search\n",
        "def get_movie_details(movie_title, movie_year):\n",
        "    return suppress_errors(ia.search_movie, movie_title)\n",
        "\n",
        "ia = IMDb()\n",
        "\n",
        "# Create empty lists to store extracted details\n",
        "director1_list = []\n",
        "director2_list = []\n",
        "actor1_list = []\n",
        "actor2_list = []\n",
        "actor3_list = []\n",
        "genre1_list = []\n",
        "genre2_list = []\n",
        "genre3_list = []\n",
        "\n",
        "# Iterate through the DataFrame using to_pandas().itertuples()\n",
        "for row in merged_movie_data.to_pandas().itertuples():\n",
        "    movie_title = row.Movie_Title\n",
        "    movie_year = row.Year\n",
        "\n",
        "    movie_details_data = get_movie_details(movie_title, movie_year)\n",
        "\n",
        "    if movie_details_data:\n",
        "        movie_details = movie_details_data[0]  # Get the first movie from the list\n",
        "\n",
        "        # Extract director names\n",
        "        directors = movie_details.get('directors', [])\n",
        "        director_names = [director['name'] for director in directors]\n",
        "        director1 = director_names[0] if director_names else None\n",
        "        director2 = director_names[1] if len(director_names) > 1 else None\n",
        "\n",
        "        # Extract actor names\n",
        "        actors = movie_details.get('cast', [])\n",
        "        actor_names = [actor['name'] for actor in actors[:3]]\n",
        "        actor1 = actor_names[0] if actor_names else None\n",
        "        actor2 = actor_names[1] if len(actor_names) > 1 else None\n",
        "        actor3 = actor_names[2] if len(actor_names) > 2 else None\n",
        "\n",
        "        # Extract genre names\n",
        "        genres = movie_details.get('genres', [])\n",
        "        genre1 = genres[0] if genres else None\n",
        "        genre2 = genres[1] if len(genres) > 1 else None\n",
        "        genre3 = genres[2] if len(genres) > 2 else None\n",
        "    else:\n",
        "        director1, director2, actor1, actor2, actor3, genre1, genre2, genre3 = [None] * 8\n",
        "\n",
        "    director1_list.append(director1)\n",
        "    director2_list.append(director2)\n",
        "    actor1_list.append(actor1)\n",
        "    actor2_list.append(actor2)\n",
        "    actor3_list.append(actor3)\n",
        "    genre1_list.append(genre1)\n",
        "    genre2_list.append(genre2)\n",
        "    genre3_list.append(genre3)\n",
        "\n",
        "# Add extracted details to movie_details DataFrame\n",
        "movie_details['Director1'] = cudf.Series(director1_list)\n",
        "movie_details['Director2'] = cudf.Series(director2_list)\n",
        "movie_details['Actor1'] = cudf.Series(actor1_list)\n",
        "movie_details['Actor2'] = cudf.Series(actor2_list)\n",
        "movie_details['Actor3'] = cudf.Series(actor3_list)\n",
        "movie_details['Genre1'] = cudf.Series(genre1_list)\n",
        "movie_details['Genre2'] = cudf.Series(genre2_list)\n",
        "movie_details['Genre3'] = cudf.Series(genre3_list)\n",
        "\n",
        "# Join the movie details to the original DataFrame\n",
        "merged_movie_data = cudf.concat([merged_movie_data, movie_details], axis=1)\n",
        "\n",
        "merged_movie_data.head()\n"
      ]
    },
    {
      "cell_type": "markdown",
      "metadata": {
        "id": "vCnPjoLEjm0n"
      },
      "source": [
        "It's working alright let's try to update our dataset based on 'Genre', 'Director' and 'Actor' of the movies.\n"
      ]
    },
    {
      "cell_type": "code",
      "execution_count": null,
      "metadata": {
        "colab": {
          "base_uri": "https://localhost:8080/",
          "height": 206
        },
        "id": "5L-tl0UQf22B",
        "outputId": "8ea56fed-1ccc-4fa0-9036-6a2ec53ea3ce"
      },
      "outputs": [
        {
          "data": {
            "text/html": [
              "\n",
              "  <div id=\"df-698da7a3-03a6-43e2-8448-9424120b4c4e\" class=\"colab-df-container\">\n",
              "    <div>\n",
              "<style scoped>\n",
              "    .dataframe tbody tr th:only-of-type {\n",
              "        vertical-align: middle;\n",
              "    }\n",
              "\n",
              "    .dataframe tbody tr th {\n",
              "        vertical-align: top;\n",
              "    }\n",
              "\n",
              "    .dataframe thead th {\n",
              "        text-align: right;\n",
              "    }\n",
              "</style>\n",
              "<table border=\"1\" class=\"dataframe\">\n",
              "  <thead>\n",
              "    <tr style=\"text-align: right;\">\n",
              "      <th></th>\n",
              "      <th>Movie_Id</th>\n",
              "      <th>User_Id</th>\n",
              "      <th>User_Rating</th>\n",
              "      <th>Date</th>\n",
              "      <th>Movie_Title</th>\n",
              "    </tr>\n",
              "  </thead>\n",
              "  <tbody>\n",
              "    <tr>\n",
              "      <th>0</th>\n",
              "      <td>1367</td>\n",
              "      <td>510180</td>\n",
              "      <td>5</td>\n",
              "      <td>1999-11-11</td>\n",
              "      <td>The Piano</td>\n",
              "    </tr>\n",
              "    <tr>\n",
              "      <th>1</th>\n",
              "      <td>1798</td>\n",
              "      <td>510180</td>\n",
              "      <td>5</td>\n",
              "      <td>1999-11-11</td>\n",
              "      <td>Lethal Weapon</td>\n",
              "    </tr>\n",
              "    <tr>\n",
              "      <th>2</th>\n",
              "      <td>607</td>\n",
              "      <td>122223</td>\n",
              "      <td>4</td>\n",
              "      <td>1999-12-08</td>\n",
              "      <td>Speed</td>\n",
              "    </tr>\n",
              "    <tr>\n",
              "      <th>3</th>\n",
              "      <td>1202</td>\n",
              "      <td>122223</td>\n",
              "      <td>4</td>\n",
              "      <td>1999-12-08</td>\n",
              "      <td>National Lampoon's Vacation</td>\n",
              "    </tr>\n",
              "    <tr>\n",
              "      <th>4</th>\n",
              "      <td>1367</td>\n",
              "      <td>122223</td>\n",
              "      <td>3</td>\n",
              "      <td>1999-12-08</td>\n",
              "      <td>The Piano</td>\n",
              "    </tr>\n",
              "  </tbody>\n",
              "</table>\n",
              "</div>\n",
              "    <div class=\"colab-df-buttons\">\n",
              "\n",
              "  <div class=\"colab-df-container\">\n",
              "    <button class=\"colab-df-convert\" onclick=\"convertToInteractive('df-698da7a3-03a6-43e2-8448-9424120b4c4e')\"\n",
              "            title=\"Convert this dataframe to an interactive table.\"\n",
              "            style=\"display:none;\">\n",
              "\n",
              "  <svg xmlns=\"http://www.w3.org/2000/svg\" height=\"24px\" viewBox=\"0 -960 960 960\">\n",
              "    <path d=\"M120-120v-720h720v720H120Zm60-500h600v-160H180v160Zm220 220h160v-160H400v160Zm0 220h160v-160H400v160ZM180-400h160v-160H180v160Zm440 0h160v-160H620v160ZM180-180h160v-160H180v160Zm440 0h160v-160H620v160Z\"/>\n",
              "  </svg>\n",
              "    </button>\n",
              "\n",
              "  <style>\n",
              "    .colab-df-container {\n",
              "      display:flex;\n",
              "      gap: 12px;\n",
              "    }\n",
              "\n",
              "    .colab-df-convert {\n",
              "      background-color: #E8F0FE;\n",
              "      border: none;\n",
              "      border-radius: 50%;\n",
              "      cursor: pointer;\n",
              "      display: none;\n",
              "      fill: #1967D2;\n",
              "      height: 32px;\n",
              "      padding: 0 0 0 0;\n",
              "      width: 32px;\n",
              "    }\n",
              "\n",
              "    .colab-df-convert:hover {\n",
              "      background-color: #E2EBFA;\n",
              "      box-shadow: 0px 1px 2px rgba(60, 64, 67, 0.3), 0px 1px 3px 1px rgba(60, 64, 67, 0.15);\n",
              "      fill: #174EA6;\n",
              "    }\n",
              "\n",
              "    .colab-df-buttons div {\n",
              "      margin-bottom: 4px;\n",
              "    }\n",
              "\n",
              "    [theme=dark] .colab-df-convert {\n",
              "      background-color: #3B4455;\n",
              "      fill: #D2E3FC;\n",
              "    }\n",
              "\n",
              "    [theme=dark] .colab-df-convert:hover {\n",
              "      background-color: #434B5C;\n",
              "      box-shadow: 0px 1px 3px 1px rgba(0, 0, 0, 0.15);\n",
              "      filter: drop-shadow(0px 1px 2px rgba(0, 0, 0, 0.3));\n",
              "      fill: #FFFFFF;\n",
              "    }\n",
              "  </style>\n",
              "\n",
              "    <script>\n",
              "      const buttonEl =\n",
              "        document.querySelector('#df-698da7a3-03a6-43e2-8448-9424120b4c4e button.colab-df-convert');\n",
              "      buttonEl.style.display =\n",
              "        google.colab.kernel.accessAllowed ? 'block' : 'none';\n",
              "\n",
              "      async function convertToInteractive(key) {\n",
              "        const element = document.querySelector('#df-698da7a3-03a6-43e2-8448-9424120b4c4e');\n",
              "        const dataTable =\n",
              "          await google.colab.kernel.invokeFunction('convertToInteractive',\n",
              "                                                    [key], {});\n",
              "        if (!dataTable) return;\n",
              "\n",
              "        const docLinkHtml = 'Like what you see? Visit the ' +\n",
              "          '<a target=\"_blank\" href=https://colab.research.google.com/notebooks/data_table.ipynb>data table notebook</a>'\n",
              "          + ' to learn more about interactive tables.';\n",
              "        element.innerHTML = '';\n",
              "        dataTable['output_type'] = 'display_data';\n",
              "        await google.colab.output.renderOutput(dataTable, element);\n",
              "        const docLink = document.createElement('div');\n",
              "        docLink.innerHTML = docLinkHtml;\n",
              "        element.appendChild(docLink);\n",
              "      }\n",
              "    </script>\n",
              "  </div>\n",
              "\n",
              "\n",
              "<div id=\"df-9286033b-727c-4ecc-8837-bcc2fd624de3\">\n",
              "  <button class=\"colab-df-quickchart\" onclick=\"quickchart('df-9286033b-727c-4ecc-8837-bcc2fd624de3')\"\n",
              "            title=\"Suggest charts.\"\n",
              "            style=\"display:none;\">\n",
              "\n",
              "<svg xmlns=\"http://www.w3.org/2000/svg\" height=\"24px\"viewBox=\"0 0 24 24\"\n",
              "     width=\"24px\">\n",
              "    <g>\n",
              "        <path d=\"M19 3H5c-1.1 0-2 .9-2 2v14c0 1.1.9 2 2 2h14c1.1 0 2-.9 2-2V5c0-1.1-.9-2-2-2zM9 17H7v-7h2v7zm4 0h-2V7h2v10zm4 0h-2v-4h2v4z\"/>\n",
              "    </g>\n",
              "</svg>\n",
              "  </button>\n",
              "\n",
              "<style>\n",
              "  .colab-df-quickchart {\n",
              "    background-color: #E8F0FE;\n",
              "    border: none;\n",
              "    border-radius: 50%;\n",
              "    cursor: pointer;\n",
              "    display: none;\n",
              "    fill: #1967D2;\n",
              "    height: 32px;\n",
              "    padding: 0 0 0 0;\n",
              "    width: 32px;\n",
              "  }\n",
              "\n",
              "  .colab-df-quickchart:hover {\n",
              "    background-color: #E2EBFA;\n",
              "    box-shadow: 0px 1px 2px rgba(60, 64, 67, 0.3), 0px 1px 3px 1px rgba(60, 64, 67, 0.15);\n",
              "    fill: #174EA6;\n",
              "  }\n",
              "\n",
              "  [theme=dark] .colab-df-quickchart {\n",
              "    background-color: #3B4455;\n",
              "    fill: #D2E3FC;\n",
              "  }\n",
              "\n",
              "  [theme=dark] .colab-df-quickchart:hover {\n",
              "    background-color: #434B5C;\n",
              "    box-shadow: 0px 1px 3px 1px rgba(0, 0, 0, 0.15);\n",
              "    filter: drop-shadow(0px 1px 2px rgba(0, 0, 0, 0.3));\n",
              "    fill: #FFFFFF;\n",
              "  }\n",
              "</style>\n",
              "\n",
              "  <script>\n",
              "    async function quickchart(key) {\n",
              "      const charts = await google.colab.kernel.invokeFunction(\n",
              "          'suggestCharts', [key], {});\n",
              "    }\n",
              "    (() => {\n",
              "      let quickchartButtonEl =\n",
              "        document.querySelector('#df-9286033b-727c-4ecc-8837-bcc2fd624de3 button');\n",
              "      quickchartButtonEl.style.display =\n",
              "        google.colab.kernel.accessAllowed ? 'block' : 'none';\n",
              "    })();\n",
              "  </script>\n",
              "</div>\n",
              "    </div>\n",
              "  </div>\n"
            ],
            "text/plain": [
              "   Movie_Id  User_Id  User_Rating       Date                  Movie_Title\n",
              "0      1367   510180            5 1999-11-11                    The Piano\n",
              "1      1798   510180            5 1999-11-11                Lethal Weapon\n",
              "2       607   122223            4 1999-12-08                        Speed\n",
              "3      1202   122223            4 1999-12-08  National Lampoon's Vacation\n",
              "4      1367   122223            3 1999-12-08                    The Piano"
            ]
          },
          "execution_count": 28,
          "metadata": {},
          "output_type": "execute_result"
        }
      ],
      "source": [
        "merged_movie_data_pandas= merged_movie_data_pandas.reset_index(drop=True)\n",
        "\n",
        "merged_movie_data_pandas.head()"
      ]
    },
    {
      "cell_type": "markdown",
      "metadata": {
        "id": "VQ_HHsceEYGS"
      },
      "source": [
        "<span style=\"color: yellow;\"> As we have the merged data at this time it would better to separate the dataset into train and test set. We will divide the dataset into time based splitting with 80% data as train data and 20% data as test data. A time based splitting is preferred here as new movies and users get added with time which can be recommended to the existing and new users based on previous ratings on eisting movies.</span>\n"
      ]
    },
    {
      "cell_type": "code",
      "execution_count": null,
      "metadata": {
        "id": "wu5YePEkEYGS"
      },
      "outputs": [],
      "source": [
        "merged_movie_data_pandas= merged_movie_data_pandas.reset_index(drop=True)\n",
        "\n",
        "split_index = int(len(merged_movie_data_pandas) * 0.8)\n",
        "\n",
        "# Split the dataset into train and test sets\n",
        "train_data = merged_movie_data_pandas[:split_index]\n",
        "test_data = merged_movie_data_pandas[split_index:]\n",
        "\n",
        "# Print the shapes of the train and test sets\n",
        "print(\"Train data shape:\", train_data.shape)\n",
        "print(\"Test data shape:\", test_data.shape)"
      ]
    },
    {
      "cell_type": "code",
      "execution_count": null,
      "metadata": {
        "id": "SbJGFzgiEYGS"
      },
      "outputs": [],
      "source": [
        "avg_user_rating= round(train_data['User_Rating'].mean(), 6)\n",
        "\n",
        "print(\"The average user rating is:\", avg_user_rating)"
      ]
    },
    {
      "cell_type": "code",
      "execution_count": null,
      "metadata": {
        "id": "DlGg7AO7EYGS"
      },
      "outputs": [],
      "source": [
        "train_data.loc[:, 'day_of_week'] = train_data.loc[:, 'Date'].dt.day_name()\n",
        "\n",
        "train_data.head()"
      ]
    },
    {
      "cell_type": "code",
      "execution_count": null,
      "metadata": {
        "id": "9ZcpYKWfEYGT"
      },
      "outputs": [],
      "source": [
        "# Create a count plot using Seaborn\n",
        "plt.figure(figsize=(6, 4))\n",
        "ax = sns.countplot(data=train_data, x='day_of_week')\n",
        "\n",
        "# Format y-axis labels using the readable function\n",
        "def readable(num, units='M'):\n",
        "    units = units.lower()\n",
        "    num = float(num)\n",
        "    if units == 'k':\n",
        "        return str(num / 10**3) + \" K\"\n",
        "    elif units == 'm':\n",
        "        return str(num / 10**6) + \" M\"\n",
        "    elif units == 'b':\n",
        "        return str(num / 10**9) + \" B\"\n",
        "\n",
        "# Get y-axis ticks\n",
        "y_ticks = ax.get_yticks()\n",
        "formatted_y_ticks = [readable(y) for y in y_ticks]\n",
        "\n",
        "# Set formatted y-axis labels\n",
        "ax.set_xticklabels(ax.get_xticklabels(), rotation=45, ha=\"right\")\n",
        "\n",
        "ax.set_yticklabels(formatted_y_ticks)\n",
        "\n",
        "# Set grid lines to be rendered below other plot elements\n",
        "ax.set_axisbelow(True)\n",
        "\n",
        "# Add grid lines with red color\n",
        "ax.grid(True, color='red', linestyle='--', linewidth=0.5)\n",
        "\n",
        "plt.show()"
      ]
    },
    {
      "cell_type": "markdown",
      "metadata": {
        "id": "kKkvRf-eEYGT"
      },
      "source": [
        "From the above analysis it shows that people watch more movies/ tv shows on weekdays while on weekends the number of ratings are fewer."
      ]
    },
    {
      "cell_type": "code",
      "execution_count": null,
      "metadata": {
        "id": "ML5Zb9oSEYGW"
      },
      "outputs": [],
      "source": [
        "plt.figure(figsize=(6, 4))\n",
        "ax = train_data.resample('M', on='Date')['User_Rating'].count().plot()\n",
        "\n",
        "ax.set_title('Number of Ratings per Month')\n",
        "plt.xlabel('Month')\n",
        "plt.ylabel('Number of Ratings per month')\n",
        "\n",
        "# Format y-axis labels using the readable function\n",
        "y_ticks = ax.get_yticks()\n",
        "y_labels = [readable(value, 'M') for value in y_ticks]\n",
        "\n",
        "# Set y-axis tick positions and labels\n",
        "ax.set_yticks(y_ticks)\n",
        "ax.set_yticklabels(y_labels)\n",
        "\n",
        "# Customize other plot elements\n",
        "ax.grid(True, alpha=0.5)\n",
        "plt.axhline(y=y_ticks[-1], color='red', alpha=0.5, linewidth=0.5, linestyle='--')\n",
        "\n",
        "plt.show()"
      ]
    },
    {
      "cell_type": "markdown",
      "metadata": {
        "id": "e0adtn4HEYGX"
      },
      "source": [
        "Let's analyse the ratings by users, first let's check the most ratings then we will see the average number of ratings per user."
      ]
    },
    {
      "cell_type": "code",
      "execution_count": null,
      "metadata": {
        "id": "nerCYTq8EYGX"
      },
      "outputs": [],
      "source": [
        "no_of_ratings_by_user= train_data.groupby(by='User_Id')['User_Rating'].count().sort_values(ascending=False)\n",
        "\n",
        "print(\"The number of ratings by users are arranged in descending order as follows:\")\n",
        "\n",
        "no_of_ratings_by_user"
      ]
    },
    {
      "cell_type": "code",
      "execution_count": null,
      "metadata": {
        "id": "B-qtXsxrEYGX"
      },
      "outputs": [],
      "source": [
        "fig = plt.figure(figsize=plt.figaspect(.25))\n",
        "\n",
        "ax1 = plt.subplot(121)\n",
        "sns.kdeplot(no_of_ratings_by_user, fill=True, color='green', ax=ax1)\n",
        "plt.xlabel('No of ratings by user')\n",
        "plt.title(\"PDF\")\n",
        "\n",
        "ax2 = plt.subplot(122)\n",
        "sns.kdeplot(no_of_ratings_by_user, fill=True, color='green', cumulative=True,ax=ax2)\n",
        "plt.xlabel('No of ratings by user')\n",
        "plt.title('CDF')\n",
        "\n",
        "ax1.grid(True)\n",
        "ax2.grid(True)\n",
        "\n",
        "# Set grid line properties\n",
        "ax1.grid(color='red', alpha=0.5, linewidth=1, linestyle='--')\n",
        "ax2.grid(color='red', alpha=0.5, linewidth=1, linestyle='--')\n",
        "\n",
        "plt.show()"
      ]
    },
    {
      "cell_type": "markdown",
      "metadata": {
        "id": "pvP1ZAjQEYGX"
      },
      "source": [
        "Let's analyse the rating given by a single user."
      ]
    },
    {
      "cell_type": "code",
      "execution_count": null,
      "metadata": {
        "id": "-pmZynBiEYGX"
      },
      "outputs": [],
      "source": [
        "no_of_ratings_per_movie = train_data.groupby(by='Movie_Id')['User_Rating'].count().sort_values(ascending=False)\n",
        "\n",
        "fig = plt.figure(figsize=plt.figaspect(.5))\n",
        "ax = plt.gca()\n",
        "plt.plot(no_of_ratings_per_movie.values)\n",
        "plt.title('Number of ratings per Movie')\n",
        "plt.xlabel('Movie_Title')\n",
        "plt.ylabel('No of ratings per movie')\n",
        "ax.set_xticklabels([])\n",
        "\n",
        "ax.grid(True)\n",
        "ax.grid(color='red', alpha=0.5, linewidth=1, linestyle='--')\n",
        "\n",
        "plt.show()"
      ]
    },
    {
      "cell_type": "markdown",
      "metadata": {
        "id": "4kWI_pePEYGX"
      },
      "source": [
        "<span style=\"color: yellow;\">The graph above shows there are some movies which has received a large number of ratings while there are movies which has received very few ratings. If the number of ratings correlates to number of times the movie has been watched then it dircetly translates to some movies are very popular thus has been watched many times/ by many users while other movies are not that popular.</span>\n"
      ]
    },
    {
      "cell_type": "code",
      "execution_count": null,
      "metadata": {
        "id": "YTH_5sBHEYGX"
      },
      "outputs": [],
      "source": [
        "fig, ax = plt.subplots()\n",
        "plt.title('Distribution of Ratings over the dataset', fontsize=10)\n",
        "\n",
        "def readable(num, units='M'):\n",
        "    units = units.lower()\n",
        "    num = float(num)\n",
        "    if units == 'k':\n",
        "        return \"{:.2f} K\".format(num / 10**3)\n",
        "    elif units == 'm':\n",
        "        return \"{:.2f} M\".format(num / 10**6)\n",
        "    elif units == 'b':\n",
        "        return \"{:.2f} B\".format(num / 10**9)\n",
        "\n",
        "# Calculate value counts and sort by index (rating values)\n",
        "rating_counts = train_data['User_Rating'].value_counts().sort_index()\n",
        "\n",
        "y_ticks = rating_counts.values\n",
        "y_labels = [readable(round(value, 2), 'M') for value in y_ticks]\n",
        "\n",
        "# Create grid lines as horizontal lines\n",
        "for y_tick in y_ticks:\n",
        "    ax.axhline(y_tick, color='red', alpha=0.5, linewidth=0.5, linestyle='--', zorder=0)\n",
        "\n",
        "# Plot bars on top of the grid lines\n",
        "plt.bar(rating_counts.index, rating_counts.values, color=[plt.cm.viridis(idx / len(rating_counts)) for idx in range(len(rating_counts))], zorder=1)\n",
        "plt.ylabel('No. of Ratings in Millions')\n",
        "plt.xlabel('Rating')\n",
        "\n",
        "# Manually set y-axis tick labels\n",
        "plt.yticks(y_ticks, y_labels)\n",
        "\n",
        "plt.show()\n"
      ]
    },
    {
      "cell_type": "code",
      "execution_count": null,
      "metadata": {
        "id": "b4NpUBtUEYGY"
      },
      "outputs": [],
      "source": [
        "fig, ax = plt.subplots()\n",
        "\n",
        "sns.countplot(x='day_of_week', data=train_data, ax=ax)\n",
        "\n",
        "plt.title('No of ratings on each day of week')\n",
        "plt.xlabel('')\n",
        "plt.ylabel('Total no of ratings')\n",
        "\n",
        "# Adjust y-axis range to start from 0\n",
        "ax.set_ylim(bottom=0)\n",
        "\n",
        "# Get y-ticks and format using the readable function\n",
        "y_ticks = train_data['User_Rating'].value_counts().sort_index().values\n",
        "y_labels = [readable(y) for y in y_ticks]\n",
        "ax.set_yticks(y_ticks)\n",
        "ax.set_yticklabels(y_labels)\n",
        "\n",
        "# Add horizontal grid lines and set them behind the bars\n",
        "for y in y_ticks:\n",
        "    ax.axhline(y, color='red', alpha=0.5, linewidth=0.5, linestyle='--', zorder=-1)\n",
        "\n",
        "plt.show()\n"
      ]
    },
    {
      "cell_type": "code",
      "execution_count": null,
      "metadata": {
        "id": "UXcJjBD0EYGY"
      },
      "outputs": [],
      "source": [
        "avg_rating_per_day = train_data.groupby(by=['day_of_week'])['User_Rating'].mean()\n",
        "print(\" AVerage ratings\")\n",
        "print(\"-\"*30)\n",
        "print(round(avg_rating_per_day, 6))\n",
        "print(\"\\n\")"
      ]
    },
    {
      "cell_type": "code",
      "execution_count": null,
      "metadata": {
        "id": "HPnsrCmKEYGY"
      },
      "outputs": [],
      "source": [
        "print(\"The number of users in the train datset is:\", train_data['User_Id'].nunique())\n",
        "print(\"The number of movies in the train datset is:\", train_data['Movie_Id'].nunique())"
      ]
    },
    {
      "cell_type": "code",
      "execution_count": null,
      "metadata": {
        "id": "VpdSqrk2EYGY"
      },
      "outputs": [],
      "source": [
        "print(\"The total number of ratings by users in the train dataset is:\", len(train_data['User_Rating']))"
      ]
    },
    {
      "cell_type": "code",
      "execution_count": null,
      "metadata": {
        "id": "FjS1nl4qEYGY"
      },
      "outputs": [],
      "source": [
        "rated_percentage= round(((len(train_data['User_Rating'])/(train_data['User_Id'].nunique()))/(train_data['Movie_Id'].nunique()))*100, 6)\n",
        "\n",
        "print(\"So the percentage of rated movies are:\", rated_percentage)"
      ]
    },
    {
      "cell_type": "code",
      "execution_count": null,
      "metadata": {
        "id": "98k2joqHEYGZ"
      },
      "outputs": [],
      "source": [
        "\n",
        "# Calculate average rating for each movie\n",
        "average_ratings_each_movie = train_data.groupby('Movie_Title')['User_Rating'].mean()\n",
        "\n",
        "# Calculate average rating given by each user\n",
        "average_ratings_each_user = train_data.groupby('User_Id')['User_Rating'].mean()\n",
        "\n",
        "# Use .loc to set new columns without triggering the warning\n",
        "train_data = train_data.assign(average_ratings_each_movie=train_data['Movie_Title'].map(average_ratings_each_movie))\n",
        "train_data = train_data.assign(average_ratings_each_user=train_data['User_Id'].map(average_ratings_each_user))\n",
        "\n",
        "train_data.head()"
      ]
    },
    {
      "cell_type": "code",
      "execution_count": null,
      "metadata": {
        "id": "bCIyAK4jEYGZ"
      },
      "outputs": [],
      "source": [
        "sns.kdeplot(train_data['average_ratings_each_user'], fill=True)\n",
        "plt.xlabel('Average Ratings')\n",
        "plt.ylabel('PDF')\n",
        "plt.title('PDF of Average Ratings Each User')\n",
        "plt.show()"
      ]
    },
    {
      "cell_type": "code",
      "execution_count": null,
      "metadata": {
        "id": "Ee2QzKAgEYGZ"
      },
      "outputs": [],
      "source": [
        "sns.kdeplot(train_data['average_ratings_each_user'], fill=True)\n",
        "plt.xlabel('Average Ratings')\n",
        "plt.ylabel('PDF')\n",
        "plt.title('PDF of Average Ratings Each Movie')\n",
        "plt.show()"
      ]
    },
    {
      "cell_type": "markdown",
      "metadata": {
        "id": "hy9Fd2NREYGZ"
      },
      "source": [
        "<span style=\"color: yellow;\"> As the PDF follows a normal distribution we can fill the null values in the test_data for new 'Movie_Title' and 'User_Id' with the mean values of 'average_ratings_each_movie' and 'average_ratings_each_user' respectively.</span>"
      ]
    },
    {
      "cell_type": "code",
      "execution_count": null,
      "metadata": {
        "id": "L5uauwDbEYGZ"
      },
      "outputs": [],
      "source": [
        "# Calculate total positive and negative ratings by each user\n",
        "user_total_ratings = train_data.groupby('User_Id')['User_Rating'].agg(user_total_pos_rating=lambda x: (x >= 4).sum(), user_total_neg_rating=lambda x: (x <= 3).sum())\n",
        "\n",
        "# Calculate total positive and negative ratings for each movie\n",
        "movie_total_ratings = train_data.groupby('Movie_Title')['User_Rating'].agg(movie_total_pos_rating=lambda x: (x >= 4).sum(), movie_total_neg_rating=lambda x: (x <= 3).sum())\n",
        "\n",
        "# Merge the calculated user ratings back to the original DataFrame\n",
        "train_data = train_data.merge(user_total_ratings, on='User_Id', how='left')\n",
        "\n",
        "# Merge the calculated movie ratings back to the DataFrame\n",
        "train_data = train_data.merge(movie_total_ratings, on='Movie_Title', how='left')\n",
        "\n",
        "# Display the updated train_data DataFrame\n",
        "train_data.head()\n"
      ]
    },
    {
      "cell_type": "code",
      "execution_count": null,
      "metadata": {
        "id": "oV__dEE_EYGa"
      },
      "outputs": [],
      "source": [
        "sns.kdeplot(train_data['user_total_pos_rating'], fill=True)\n",
        "plt.xlabel('Average Ratings')\n",
        "plt.ylabel('PDF')\n",
        "plt.title('PDF of Positive Ratings by Each User')\n",
        "plt.show()"
      ]
    },
    {
      "cell_type": "code",
      "execution_count": null,
      "metadata": {
        "id": "Qlr1NZ2WEYGa"
      },
      "outputs": [],
      "source": [
        "sns.kdeplot(train_data['user_total_neg_rating'], fill=True)\n",
        "plt.xlabel('Average Ratings')\n",
        "plt.ylabel('PDF')\n",
        "plt.title('PDF of Negative Ratings by Each User')\n",
        "plt.show()"
      ]
    },
    {
      "cell_type": "code",
      "execution_count": null,
      "metadata": {
        "id": "1OZAgk7HEYGa"
      },
      "outputs": [],
      "source": [
        "sns.kdeplot(train_data['movie_total_pos_rating'], fill=True)\n",
        "plt.xlabel('Average Ratings')\n",
        "plt.ylabel('PDF')\n",
        "plt.title('PDF of Total Positive Ratings Each Movie')\n",
        "plt.show()"
      ]
    },
    {
      "cell_type": "code",
      "execution_count": null,
      "metadata": {
        "id": "98rcO_zMEYGa"
      },
      "outputs": [],
      "source": [
        "sns.kdeplot(train_data['movie_total_neg_rating'], fill=True)\n",
        "plt.xlabel('Average Ratings')\n",
        "plt.ylabel('PDF')\n",
        "plt.title('PDF of Total Negative Ratings Each Movie')\n",
        "plt.show()"
      ]
    },
    {
      "cell_type": "code",
      "execution_count": null,
      "metadata": {
        "id": "d5-FzQ43EYGa"
      },
      "outputs": [],
      "source": [
        "train_data= train_data.reset_index(drop=True)\n",
        "train_data.head()"
      ]
    },
    {
      "cell_type": "code",
      "execution_count": null,
      "metadata": {
        "id": "6N1qfXhGpNn7"
      },
      "outputs": [],
      "source": [
        "# Calculate average rating for each movie\n",
        "average_ratings_each_movie = round(train_data.groupby('Movie_Title')['average_ratings_each_movie'].mean(), 6)\n",
        "pos_ratings_each_movie = round(train_data.groupby('Movie_Title')['movie_total_pos_rating'].mean(), 6)\n",
        "neg_ratings_each_movie = round(train_data.groupby('Movie_Title')['movie_total_neg_rating'].mean(), 6)\n",
        "\n",
        "# Calculate average rating given by each user\n",
        "average_ratings_each_user = round(train_data.groupby('User_Id')['average_ratings_each_user'].mean(), 6)\n",
        "pos_ratings_each_user = round(train_data.groupby('User_Id')['user_total_pos_rating'].mean(), 6)\n",
        "neg_ratings_each_user = round(train_data.groupby('User_Id')['user_total_neg_rating'].mean(), 6)\n",
        "\n",
        "median_of_average_ratings_each_movie = round(train_data['average_ratings_each_movie'].median(), 6)\n",
        "median_pos_ratings_each_movie = round(train_data['movie_total_pos_rating'].median(), 6)\n",
        "median_neg_ratings_each_movie = round(train_data['movie_total_neg_rating'].median(), 6)\n",
        "\n",
        "median_of_average_ratings_each_user = round(train_data['average_ratings_each_user'].median(), 6)\n",
        "median_pos_ratings_each_user = round(train_data['user_total_pos_rating'].median(), 6)\n",
        "median_neg_ratings_each_user = round(train_data['user_total_neg_rating'].median(), 6)\n",
        "\n",
        "test_data = test_data.assign(average_ratings_each_movie=test_data['Movie_Title'].map(average_ratings_each_movie).fillna(median_of_average_ratings_each_movie))\n",
        "test_data = test_data.assign(movie_total_pos_rating=test_data['Movie_Title'].map(pos_ratings_each_movie).fillna(median_pos_ratings_each_movie))\n",
        "test_data = test_data.assign(movie_total_neg_rating=test_data['Movie_Title'].map(neg_ratings_each_movie).fillna(median_neg_ratings_each_movie))\n",
        "\n",
        "test_data = test_data.assign(average_ratings_each_user=test_data['User_Id'].map(average_ratings_each_user).fillna(median_of_average_ratings_each_user))\n",
        "test_data = test_data.assign(user_total_pos_rating=test_data['User_Id'].map(pos_ratings_each_user).fillna(median_pos_ratings_each_user))\n",
        "test_data = test_data.assign(user_total_neg_rating=test_data['User_Id'].map(neg_ratings_each_user).fillna(median_neg_ratings_each_user))\n",
        "\n",
        "test_data.head()"
      ]
    },
    {
      "cell_type": "code",
      "execution_count": null,
      "metadata": {
        "id": "x4Up5aY1zsSt"
      },
      "outputs": [],
      "source": []
    },
    {
      "cell_type": "markdown",
      "metadata": {
        "id": "jVdxrA7LzkSM"
      },
      "source": [
        "To check if our mapping was successful let's try out some movie_id and user_id from the train_data and see if they have matched properly.\n"
      ]
    },
    {
      "cell_type": "code",
      "execution_count": null,
      "metadata": {
        "id": "Ql6Hw_GTy0_Q"
      },
      "outputs": [],
      "source": [
        "train_data[train_data['Movie_Id']==1843].head()"
      ]
    },
    {
      "cell_type": "code",
      "execution_count": null,
      "metadata": {
        "id": "uWuP4S2Ozwcp"
      },
      "outputs": [],
      "source": [
        "train_data[train_data['User_Id']==2506834].head()"
      ]
    },
    {
      "cell_type": "markdown",
      "metadata": {
        "id": "Gq_oyq9l0N6w"
      },
      "source": [
        "Everything looks perfectly mapped, now let's check for the null values.\n",
        "\n"
      ]
    },
    {
      "cell_type": "code",
      "execution_count": null,
      "metadata": {
        "id": "Ry8FkVGwEYGb"
      },
      "outputs": [],
      "source": [
        "test_data.reset_index().isnull().mean()"
      ]
    },
    {
      "cell_type": "markdown",
      "metadata": {
        "id": "jedApFOQEYGb"
      },
      "source": [
        "<span style=\"color: yellow;\"> Everything is alright, now we will create a dataframe consisting of 'average_ratings_each_movie', 'average_ratings_each_user' and 'recommended_ratings_each_movie'. The features 'average_ratings_each_movie' and 'average_ratings_each_user' will serve as unique signature for each user which can be used to represent personal biases/ choices from the average population and same also stands for the movies. To make a new dataset let's drop all the unnecessary columns.</span>"
      ]
    },
    {
      "cell_type": "code",
      "execution_count": null,
      "metadata": {
        "id": "uZZAhGT8EYGb"
      },
      "outputs": [],
      "source": [
        "train_data_modified= train_data.drop(['Movie_Id', 'Date', 'day_of_week'], axis=1)\n",
        "\n",
        "train_data_modified.head()"
      ]
    },
    {
      "cell_type": "code",
      "execution_count": null,
      "metadata": {
        "id": "ZxQPObq1EYGb"
      },
      "outputs": [],
      "source": [
        "train_data_modified= train_data_modified.reset_index(drop= True)\n",
        "\n",
        "train_data_modified.head()"
      ]
    },
    {
      "cell_type": "code",
      "execution_count": null,
      "metadata": {
        "id": "7-cuJHITEYGc"
      },
      "outputs": [],
      "source": [
        "train_data_modified.info()"
      ]
    },
    {
      "cell_type": "markdown",
      "metadata": {
        "id": "t3GhHHZT6Enu"
      },
      "source": [
        "we will convert all int64/ float64 datatype columns to int32/ float32 for faster processing as our data is large."
      ]
    },
    {
      "cell_type": "code",
      "execution_count": null,
      "metadata": {
        "id": "k2rvOofQ6RDm"
      },
      "outputs": [],
      "source": [
        "# Convert int64 columns to int32\n",
        "int64_columns = ['user_total_pos_rating', 'user_total_neg_rating', 'movie_total_pos_rating', 'movie_total_neg_rating']\n",
        "train_data_modified[int64_columns] = train_data_modified[int64_columns].astype('int32')\n",
        "\n",
        "# Convert float64 columns to float32\n",
        "float64_columns = ['average_ratings_each_movie', 'average_ratings_each_user']\n",
        "train_data_modified[float64_columns] = train_data_modified[float64_columns].astype('float32')"
      ]
    },
    {
      "cell_type": "code",
      "execution_count": null,
      "metadata": {
        "id": "F2y86yW5EYGc"
      },
      "outputs": [],
      "source": [
        "# Convert columns to string/object data type\n",
        "train_data_modified['User_Id'] = train_data_modified['User_Id'].astype(str)"
      ]
    },
    {
      "cell_type": "code",
      "execution_count": null,
      "metadata": {
        "id": "0eG8JpOwEYGc"
      },
      "outputs": [],
      "source": [
        "train_data_modified.info()"
      ]
    },
    {
      "cell_type": "markdown",
      "metadata": {
        "id": "1SvcdBHJEYGc"
      },
      "source": [
        "<span style=\"color: yellow;\"> Let's do the same feature enginering on the test data.</span>"
      ]
    },
    {
      "cell_type": "code",
      "execution_count": null,
      "metadata": {
        "id": "fbvUq13mEYGc"
      },
      "outputs": [],
      "source": [
        "test_data_modified= test_data.drop(['Date', 'Movie_Id'], axis=1)\n",
        "\n",
        "test_data_modified.head()"
      ]
    },
    {
      "cell_type": "code",
      "execution_count": null,
      "metadata": {
        "id": "Rpu3ci0WEYGc"
      },
      "outputs": [],
      "source": [
        "test_data_modified= test_data_modified.reset_index(drop= True)\n",
        "\n",
        "test_data_modified.head()"
      ]
    },
    {
      "cell_type": "code",
      "execution_count": null,
      "metadata": {
        "id": "rUhg22h-EYGd"
      },
      "outputs": [],
      "source": [
        "test_data_modified.info()"
      ]
    },
    {
      "cell_type": "code",
      "execution_count": null,
      "metadata": {
        "id": "Wxf-3YsP6viY"
      },
      "outputs": [],
      "source": [
        "# Convert int64 columns to int32\n",
        "int64_columns = ['user_total_pos_rating', 'user_total_neg_rating', 'movie_total_pos_rating', 'movie_total_neg_rating']\n",
        "test_data_modified[int64_columns] = test_data_modified[int64_columns].astype('int32')\n",
        "\n",
        "# Convert float64 columns to float32\n",
        "float64_columns = ['average_ratings_each_movie', 'average_ratings_each_user']\n",
        "test_data_modified[float64_columns] = test_data_modified[float64_columns].astype('float32')\n"
      ]
    },
    {
      "cell_type": "code",
      "execution_count": null,
      "metadata": {
        "id": "-Lyg63VjEYGd"
      },
      "outputs": [],
      "source": [
        "# Convert columns to string/object data type\n",
        "test_data_modified['User_Id'] = test_data_modified['User_Id'].astype(str)"
      ]
    },
    {
      "cell_type": "code",
      "execution_count": null,
      "metadata": {
        "id": "5rq_jmMwEYGd"
      },
      "outputs": [],
      "source": [
        "test_data_modified.info()"
      ]
    },
    {
      "cell_type": "markdown",
      "metadata": {
        "id": "rKdWFvJaEYGd"
      },
      "source": [
        "<span style=\"color: yellow;\"> Let's scale the data now</span>"
      ]
    },
    {
      "cell_type": "code",
      "execution_count": null,
      "metadata": {
        "id": "ZeKxo59yEYGd"
      },
      "outputs": [],
      "source": [
        "from sklearn.preprocessing import MinMaxScaler\n",
        "\n",
        "# Create an instance of MinMaxScaler\n",
        "scaler = MinMaxScaler()\n",
        "\n",
        "# Assuming 'train_data_modified' is your DataFrame\n",
        "train_data_scaled = train_data_modified.copy()\n",
        "\n",
        "# Get the column names before scaling\n",
        "column_names = train_data_scaled.select_dtypes(include='number').drop(['User_Rating'], axis=1).columns\n",
        "\n",
        "# Fit the scaler on the entire DataFrame and transform the data\n",
        "train_data_scaled[column_names] = scaler.fit_transform(train_data_scaled[column_names])\n",
        "\n",
        "train_data_scaled.head()"
      ]
    },
    {
      "cell_type": "code",
      "execution_count": null,
      "metadata": {
        "id": "nRfjL49AEYGe"
      },
      "outputs": [],
      "source": [
        "train_data_scaled_modified= train_data_scaled.drop(['Movie_Title',\t'User_Id'], axis=1)\n",
        "train_data_scaled_modified.head()"
      ]
    },
    {
      "cell_type": "code",
      "execution_count": null,
      "metadata": {
        "id": "K2C-v28gEYGe"
      },
      "outputs": [],
      "source": [
        "from sklearn.preprocessing import MinMaxScaler\n",
        "\n",
        "# Create an instance of MinMaxScaler\n",
        "scaler = MinMaxScaler()\n",
        "\n",
        "# Assuming 'test_data_modified' is your DataFrame\n",
        "test_data_scaled = test_data_modified.copy()\n",
        "\n",
        "# Get the column names before scaling\n",
        "column_names = test_data_scaled.select_dtypes(include='number').drop(['User_Rating'], axis=1).columns\n",
        "\n",
        "# Fit the scaler on the entire DataFrame and transform the data\n",
        "test_data_scaled[column_names] = scaler.fit_transform(test_data_scaled[column_names])\n",
        "\n",
        "test_data_scaled.head()"
      ]
    },
    {
      "cell_type": "code",
      "execution_count": null,
      "metadata": {
        "id": "Ugv3lNsNEYGe"
      },
      "outputs": [],
      "source": [
        "test_data_scaled_modified= test_data_scaled.drop(['Movie_Title', 'User_Id'], axis=1)\n",
        "test_data_scaled_modified.head()"
      ]
    },
    {
      "cell_type": "code",
      "execution_count": null,
      "metadata": {
        "id": "xeCU7VqgZ06-"
      },
      "outputs": [],
      "source": [
        "# Get the list of column names from train_data\n",
        "train_columns = train_data_scaled_modified.columns.tolist()\n",
        "\n",
        "# Reorder columns in test_data to match the order of train_data columns\n",
        "test_data_scaled_modified = test_data_scaled_modified[train_columns]\n",
        "\n",
        "test_data_scaled_modified.head()\n"
      ]
    },
    {
      "cell_type": "code",
      "execution_count": null,
      "metadata": {
        "id": "5iqG3VYrXJvA"
      },
      "outputs": [],
      "source": []
    },
    {
      "cell_type": "markdown",
      "metadata": {
        "id": "cIvUwVsiEYGe"
      },
      "source": [
        "<span style=\"color: green;\"> Building Models</span>"
      ]
    },
    {
      "cell_type": "code",
      "execution_count": null,
      "metadata": {
        "id": "n5gIVR_rEYGe"
      },
      "outputs": [],
      "source": [
        "from sklearn.linear_model import Ridge\n",
        "from sklearn.metrics import mean_squared_error, r2_score\n",
        "\n",
        "# Separate features and target\n",
        "X = train_data_scaled_modified.drop(['User_Rating'], axis=1) # Features from scaled DataFrame\n",
        "y = train_data_scaled_modified['User_Rating'] # Target variable\n",
        "\n",
        "# Initialize the Ridge (L2 regularized) LinearRegression model with regularization parameter alpha\n",
        "alpha = 0.01  # Adjust this value based on your preference\n",
        "model_l2 = Ridge(alpha=alpha)\n",
        "\n",
        "# Fit the model to the training data\n",
        "model_l2.fit(X, y)\n",
        "\n",
        "# Predict target values on the test set\n",
        "y_pred = model_l2.predict(test_data_scaled_modified.drop(['User_Rating'], axis=1))\n",
        "\n",
        "# Calculate Mean Squared Error\n",
        "mse = mean_squared_error(test_data_scaled_modified['User_Rating'], y_pred)\n",
        "\n",
        "rmse = np.sqrt(mse)\n",
        "\n",
        "# Calculate R-squared value\n",
        "r2 = r2_score(test_data_scaled_modified['User_Rating'], y_pred)\n",
        "\n",
        "print(f\"Root Mean Squared Error: {rmse:.2f}\")\n",
        "print(f\"R-squared value: {r2:.2f}\")"
      ]
    },
    {
      "cell_type": "code",
      "execution_count": null,
      "metadata": {
        "id": "f7xE2-pnEYGe"
      },
      "outputs": [],
      "source": [
        "from sklearn.tree import DecisionTreeRegressor\n",
        "from sklearn.metrics import mean_squared_error, r2_score\n",
        "\n",
        "# Separate features and target\n",
        "X = train_data_scaled_modified.drop(['User_Rating'], axis=1)  # Features from scaled DataFrame\n",
        "y = train_data_scaled_modified['User_Rating']  # Target variable\n",
        "\n",
        "# Initialize the Decision Tree Regressor with min_samples_leaf\n",
        "min_samples_leaf = 100\n",
        "model_tree = DecisionTreeRegressor(min_samples_leaf=min_samples_leaf)\n",
        "\n",
        "# Fit the model to the training data\n",
        "model_tree.fit(X, y)\n",
        "\n",
        "# Predict target values on the test set\n",
        "y_pred = model_tree.predict(test_data_scaled_modified.drop(['User_Rating'], axis=1))\n",
        "\n",
        "# Calculate Mean Squared Error\n",
        "mse = mean_squared_error(test_data_scaled_modified['User_Rating'], y_pred)\n",
        "\n",
        "rmse = np.sqrt(mse)\n",
        "\n",
        "# Calculate R-squared value\n",
        "r2 = r2_score(test_data_scaled_modified['User_Rating'], y_pred)\n",
        "\n",
        "print(f\"Root Mean Squared Error: {rmse:.2f}\")\n",
        "print(f\"R-squared value: {r2:.2f}\")"
      ]
    },
    {
      "cell_type": "code",
      "execution_count": null,
      "metadata": {
        "colab": {
          "base_uri": "https://localhost:8080/",
          "height": 383
        },
        "id": "eN0CXp4leWb-",
        "outputId": "0d1454e0-97c7-4bf6-ca0c-e46a606f81b9"
      },
      "outputs": [
        {
          "ename": "ModuleNotFoundError",
          "evalue": "ignored",
          "output_type": "error",
          "traceback": [
            "\u001b[0;31m---------------------------------------------------------------------------\u001b[0m",
            "\u001b[0;31mModuleNotFoundError\u001b[0m                       Traceback (most recent call last)",
            "\u001b[0;32m<ipython-input-1-14c80241e94b>\u001b[0m in \u001b[0;36m<cell line: 1>\u001b[0;34m()\u001b[0m\n\u001b[0;32m----> 1\u001b[0;31m \u001b[0;32mimport\u001b[0m \u001b[0mcuml\u001b[0m\u001b[0;34m\u001b[0m\u001b[0;34m\u001b[0m\u001b[0m\n\u001b[0m\u001b[1;32m      2\u001b[0m \u001b[0;32mimport\u001b[0m \u001b[0mcudf\u001b[0m\u001b[0;34m\u001b[0m\u001b[0;34m\u001b[0m\u001b[0m\n\u001b[1;32m      3\u001b[0m \u001b[0;32mimport\u001b[0m \u001b[0mnumpy\u001b[0m \u001b[0;32mas\u001b[0m \u001b[0mnp\u001b[0m\u001b[0;34m\u001b[0m\u001b[0;34m\u001b[0m\u001b[0m\n\u001b[1;32m      4\u001b[0m \u001b[0;34m\u001b[0m\u001b[0m\n\u001b[1;32m      5\u001b[0m \u001b[0;31m# Separate features and target\u001b[0m\u001b[0;34m\u001b[0m\u001b[0;34m\u001b[0m\u001b[0m\n",
            "\u001b[0;31mModuleNotFoundError\u001b[0m: No module named 'cuml'",
            "",
            "\u001b[0;31m---------------------------------------------------------------------------\u001b[0;32m\nNOTE: If your import is failing due to a missing package, you can\nmanually install dependencies using either !pip or !apt.\n\nTo view examples of installing some common dependencies, click the\n\"Open Examples\" button below.\n\u001b[0;31m---------------------------------------------------------------------------\u001b[0m\n"
          ]
        }
      ],
      "source": [
        "import cuml\n",
        "import cudf\n",
        "import numpy as np\n",
        "\n",
        "# Separate features and target\n",
        "X = train_data_scaled_modified.drop(['User_Rating'], axis=1)  # Features from scaled DataFrame\n",
        "y = train_data_scaled_modified['User_Rating']  # Target variable\n",
        "\n",
        "# Convert pandas dataframes to cuDF dataframes\n",
        "X_cudf = cudf.DataFrame.from_pandas(X)\n",
        "y_cudf = cudf.Series(y)\n",
        "\n",
        "# Initialize the Random Forest Regressor\n",
        "n_estimators = 100\n",
        "model_rf = cuml.ensemble.RandomForestRegressor(n_estimators=n_estimators)\n",
        "\n",
        "# Fit the model to the training data\n",
        "model_rf.fit(X_cudf, y_cudf)\n",
        "\n",
        "# Convert test data to cuDF dataframe\n",
        "test_data_cudf = cudf.DataFrame.from_pandas(test_data_scaled_modified)\n",
        "\n",
        "# Predict target values on the test set\n",
        "y_pred_cudf = model_rf.predict(test_data_cudf)\n",
        "\n",
        "# Convert cuDF prediction to numpy array for metrics calculation\n",
        "y_pred_np = y_pred_cudf.to_array()\n",
        "\n",
        "# Calculate Mean Squared Error\n",
        "mse = mean_squared_error(test_data_scaled_modified['User_Rating'], y_pred_np)\n",
        "\n",
        "rmse = np.sqrt(mse)\n",
        "\n",
        "# Calculate R-squared value\n",
        "r2 = r2_score(test_data_scaled_modified['User_Rating'], y_pred_np)\n",
        "\n",
        "print(f\"Root Mean Squared Error: {rmse:.2f}\")\n",
        "print(f\"R-squared value: {r2:.2f}\")\n"
      ]
    },
    {
      "cell_type": "markdown",
      "metadata": {
        "id": "WBXwOi1CEYGe"
      },
      "source": [
        "<span style=\"color: yellow;\"> Both linear regression and DecisionTreeRegressor are throwing good RMSE and R-Squared values. We will use linear regression as it is easy to tune and fast for predicting linear relationship. We will make a pivot table with 100 Movie_Id and 1000 User_Id from test_data to fill up the pivot table with our linear regression model. We will make a sample movie recommendation system based on 'recommended_ratings_each_movie' based on 'user rating'.</span>"
      ]
    },
    {
      "cell_type": "code",
      "execution_count": null,
      "metadata": {
        "colab": {
          "background_save": true
        },
        "id": "mCbHohzFEYGe"
      },
      "outputs": [],
      "source": [
        "num_users_to_select = 1000\n",
        "num_movies_to_select = 100\n",
        "\n",
        "# Get unique user IDs and movie IDs from the test_data\n",
        "unique_user_ids = test_data_scaled['User_Id'].unique()\n",
        "unique_movie_ids = test_data_scaled['Movie_Id'].unique()\n",
        "\n",
        "# Randomly select 1000 unique user IDs\n",
        "selected_user_ids = np.random.choice(unique_user_ids, size=num_users_to_select, replace=False)\n",
        "\n",
        "# Randomly select 100 movie IDs\n",
        "selected_movie_ids = np.random.choice(unique_movie_ids, size=num_movies_to_select, replace=False)\n",
        "\n",
        "# Filter the test_data based on the selected user and movie IDs\n",
        "filtered_data = test_data_scaled[(test_data_scaled['User_Id'].isin(selected_user_ids)) & (test_data_scaled['Movie_Id'].isin(selected_movie_ids))]\n",
        "\n",
        "# Create a pivot table using the filtered data\n",
        "pivot_table = pd.pivot_table(filtered_data, values='recommended_ratings_each_movie', index='User_Id', columns='Movie_Id')\n",
        "\n",
        "# Display the pivot table\n",
        "print(pivot_table)"
      ]
    },
    {
      "cell_type": "markdown",
      "metadata": {
        "id": "7xB9_8-rEYGf"
      },
      "source": [
        "<span style=\"color: yellow;\">As per the above calculation as the percentage of rated that is actual filled rows are very sparse we can create a sparse matrix of User_Id and Movie_Title to fill the corresponding ratings while filling the non-available ratings as zero.</span>"
      ]
    },
    {
      "cell_type": "code",
      "execution_count": null,
      "metadata": {
        "colab": {
          "background_save": true
        },
        "id": "m5_4_tJqEYGf"
      },
      "outputs": [],
      "source": [
        "from scipy.sparse import csr_matrix, save_npz, load_npz\n",
        "import os\n",
        "\n",
        "npz_file_path = r\"C:\\Users\\sandi\\Desktop\\My Git\\Netflix Recommender System\\sparse_ratings_matrix_train.npz\"\n",
        "\n",
        "# Check if the NPZ file exists\n",
        "if os.path.exists(npz_file_path):\n",
        "    # Load the sparse matrix from the existing NPZ file\n",
        "    sparse_ratings_matrix_train = load_npz(npz_file_path)\n",
        "else:\n",
        "    num_users = np.max(train_data['User_Id'])\n",
        "    num_movies = np.max(train_data['Movie_Id'])\n",
        "    sparse_ratings_matrix_train = csr_matrix((train_data['User_Rating'], (train_data['User_Id'], train_data['Movie_Id'])), shape=(num_users + 1, num_movies + 1))\n",
        "\n",
        "    # Save the sparse matrix as an NPZ file\n",
        "    save_npz(npz_file_path, sparse_ratings_matrix_train)\n",
        "\n",
        "# Now you have the sparse matrix loaded or created and loaded\n",
        "print(sparse_ratings_matrix_train)"
      ]
    },
    {
      "cell_type": "code",
      "execution_count": null,
      "metadata": {
        "colab": {
          "background_save": true
        },
        "id": "RXzudpdHEYGf"
      },
      "outputs": [],
      "source": [
        "user, movie = sparse_ratings_matrix_train.shape\n",
        "non_zero_rating = sparse_ratings_matrix_train.count_nonzero()\n",
        "\n",
        "print(f\"Sparsity Of Train matrix : {round(((1-(non_zero_rating/(user*movie))) * 100), 4)}% \")"
      ]
    },
    {
      "cell_type": "code",
      "execution_count": null,
      "metadata": {
        "colab": {
          "background_save": true
        },
        "id": "YPmlv2q_EYGf"
      },
      "outputs": [],
      "source": [
        "from scipy.sparse import csr_matrix, save_npz, load_npz\n",
        "import os\n",
        "\n",
        "npz_file_path = r\"C:\\Users\\sandi\\Desktop\\My Git\\Netflix Recommender System\\sparse_ratings_matrix_test.npz\"\n",
        "\n",
        "# Check if the NPZ file exists\n",
        "if os.path.exists(npz_file_path):\n",
        "    # Load the sparse matrix from the existing NPZ file\n",
        "    sparse_ratings_matrix_test = load_npz(npz_file_path)\n",
        "else:\n",
        "    num_users = np.max(test_data['User_Id'])\n",
        "    num_movies = np.max(test_data['Movie_Id'])\n",
        "    sparse_ratings_matrix_test = csr_matrix((test_data['User_Rating'], (test_data['User_Id'], test_data['Movie_Id'])), shape=(num_users + 1, num_movies + 1))\n",
        "\n",
        "    # Save the sparse matrix as an NPZ file\n",
        "    save_npz(npz_file_path, sparse_ratings_matrix_test)\n",
        "\n",
        "# Now you have the sparse matrix loaded or created and loaded\n",
        "print(sparse_ratings_matrix_test)"
      ]
    },
    {
      "cell_type": "code",
      "execution_count": null,
      "metadata": {
        "colab": {
          "background_save": true
        },
        "id": "BulViVcTEYGf"
      },
      "outputs": [],
      "source": [
        "user, movie = sparse_ratings_matrix_test.shape\n",
        "non_zero_rating = sparse_ratings_matrix_test.count_nonzero()\n",
        "\n",
        "print(f\"Sparsity Of Test matrix : {round(((1-(non_zero_rating/(user*movie))) * 100), 4)}% \")"
      ]
    },
    {
      "cell_type": "code",
      "execution_count": null,
      "metadata": {
        "colab": {
          "background_save": true
        },
        "id": "lslO4XIIEYGf"
      },
      "outputs": [],
      "source": [
        "train_averages = dict()\n",
        "# get the global average of ratings in our train set.\n",
        "train_global_average = sparse_ratings_matrix_train.sum()/sparse_ratings_matrix_train.count_nonzero()\n",
        "train_averages['global'] = round(train_global_average, 4)\n",
        "train_averages"
      ]
    },
    {
      "cell_type": "code",
      "execution_count": null,
      "metadata": {
        "colab": {
          "background_save": true
        },
        "id": "rAEXoz6CEYGf"
      },
      "outputs": [],
      "source": [
        "def get_average_ratings(sparse_matrix, of_users):\n",
        "    # Determine the axis for calculation (1 for users, 0 for movies)\n",
        "    ax = 1 if of_users else 0\n",
        "\n",
        "    # Sum of ratings for each user/movie\n",
        "    sum_of_ratings = sparse_matrix.sum(axis=ax).A1\n",
        "\n",
        "    # Create a boolean matrix indicating if a user rated a movie\n",
        "    is_rated = sparse_matrix != 0\n",
        "\n",
        "    # Number of ratings for each user/movie\n",
        "    no_of_ratings = is_rated.sum(axis=ax).A1\n",
        "\n",
        "    # Get the shape of the sparse matrix (max_user, max_movie)\n",
        "    max_user, max_movie = sparse_matrix.shape\n",
        "\n",
        "    # Create a dictionary of users/movies and their average ratings\n",
        "    average_ratings = {\n",
        "        i: sum_of_ratings[i] / no_of_ratings[i]\n",
        "        for i in range(max_user if of_users else max_movie)\n",
        "        if no_of_ratings[i] != 0\n",
        "                      }\n",
        "\n",
        "    # Return the dictionary of average ratings\n",
        "    return average_ratings"
      ]
    },
    {
      "cell_type": "code",
      "execution_count": null,
      "metadata": {
        "colab": {
          "background_save": true
        },
        "id": "BhlGxIiGEYGg"
      },
      "outputs": [],
      "source": [
        "average_ratings_users = get_average_ratings(sparse_ratings_matrix_train, of_users=True)\n",
        "\n",
        "average_ratings_movies = get_average_ratings(sparse_ratings_matrix_train, of_users=False)"
      ]
    },
    {
      "cell_type": "code",
      "execution_count": null,
      "metadata": {
        "colab": {
          "background_save": true
        },
        "id": "j2MGnJqiEYGg"
      },
      "outputs": [],
      "source": [
        "train_data.head()"
      ]
    },
    {
      "cell_type": "code",
      "execution_count": null,
      "metadata": {
        "colab": {
          "background_save": true
        },
        "id": "cgO4RKtBEYGg"
      },
      "outputs": [],
      "source": [
        "train_averages['User_Id'] = get_average_ratings(sparse_ratings_matrix_train, of_users=True)\n",
        "print('\\nAverage rating of user 510180 :',round(train_averages['User_Id'][510180], 4))"
      ]
    },
    {
      "cell_type": "code",
      "execution_count": null,
      "metadata": {
        "colab": {
          "background_save": true
        },
        "id": "DgpqRXwFEYGg"
      },
      "outputs": [],
      "source": [
        "train_averages['Movie_Id'] = get_average_ratings(sparse_ratings_matrix_train, of_users=False)\n",
        "print('\\nAverage rating of Movie_Id 10341 :',round(train_averages['Movie_Id'][10341], 4))"
      ]
    },
    {
      "cell_type": "code",
      "execution_count": null,
      "metadata": {
        "colab": {
          "background_save": true
        },
        "id": "5odkSVfOEYGg"
      },
      "outputs": [],
      "source": [
        "fig, (ax1, ax2) = plt.subplots(nrows=1, ncols=2, figsize=plt.figaspect(.25))\n",
        "fig.suptitle('Avg Ratings per User and per Movie', fontsize=15)\n",
        "\n",
        "ax1.set_title('User Avg Rating')\n",
        "user_averages = [r for r in train_averages['User_Id'].values()]\n",
        "sns.kdeplot(user_averages, ax=ax1, cumulative=True, label='CDF')\n",
        "sns.kdeplot(user_averages, ax=ax1, label='PDF')\n",
        "ax1.grid(True)  # Adding gridlines to the first subplot\n",
        "\n",
        "ax2.set_title('Movie Avg Rating')\n",
        "movie_averages = [r for r in train_averages['Movie_Id'].values()]\n",
        "sns.kdeplot(movie_averages, ax=ax2, cumulative=True, label='CDF')\n",
        "sns.kdeplot(movie_averages, ax=ax2, label='PDF')\n",
        "ax2.grid(True)  # Adding gridlines to the second subplot\n",
        "\n",
        "plt.show()"
      ]
    }
  ],
  "metadata": {
    "accelerator": "GPU",
    "colab": {
      "gpuType": "T4",
      "provenance": []
    },
    "kernelspec": {
      "display_name": "Python 3",
      "name": "python3"
    },
    "language_info": {
      "codemirror_mode": {
        "name": "ipython",
        "version": 3
      },
      "file_extension": ".py",
      "mimetype": "text/x-python",
      "name": "python",
      "nbconvert_exporter": "python",
      "pygments_lexer": "ipython3",
      "version": "3.9.17"
    }
  },
  "nbformat": 4,
  "nbformat_minor": 0
}
